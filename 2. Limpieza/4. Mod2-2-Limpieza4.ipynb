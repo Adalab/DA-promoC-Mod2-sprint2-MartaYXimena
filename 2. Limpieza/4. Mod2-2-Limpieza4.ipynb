{
 "cells": [
  {
   "attachments": {},
   "cell_type": "markdown",
   "metadata": {},
   "source": [
    "# Pair Programming Limpieza IV"
   ]
  },
  {
   "attachments": {},
   "cell_type": "markdown",
   "metadata": {},
   "source": [
    "Es el momento de ponernos a trabajar con los valores nulos 💪🏽. A lo largo de este ejercicio de pair programming vamos a intentar eliminar los valores nulos de nuestras columnas. En la lección hemos aprendido varios métodos, nosotras os planteamos los ejercicios pero sentiros libres de usar el método que más se adapte a vuestras necesidades. Manos a la obra!"
   ]
  },
  {
   "cell_type": "code",
   "execution_count": 2,
   "metadata": {},
   "outputs": [],
   "source": [
    "import pandas as pd\n",
    "import seaborn as sns\n",
    "import matplotlib.pyplot as plt\n",
    "import numpy as np\n",
    "import sidetable\n",
    "import warnings\n",
    "warnings.filterwarnings('ignore')"
   ]
  },
  {
   "cell_type": "code",
   "execution_count": 3,
   "metadata": {},
   "outputs": [
    {
     "data": {
      "text/html": [
       "<div>\n",
       "<style scoped>\n",
       "    .dataframe tbody tr th:only-of-type {\n",
       "        vertical-align: middle;\n",
       "    }\n",
       "\n",
       "    .dataframe tbody tr th {\n",
       "        vertical-align: top;\n",
       "    }\n",
       "\n",
       "    .dataframe thead th {\n",
       "        text-align: right;\n",
       "    }\n",
       "</style>\n",
       "<table border=\"1\" class=\"dataframe\">\n",
       "  <thead>\n",
       "    <tr style=\"text-align: right;\">\n",
       "      <th></th>\n",
       "      <th>case_number</th>\n",
       "      <th>year</th>\n",
       "      <th>type</th>\n",
       "      <th>country</th>\n",
       "      <th>species_</th>\n",
       "      <th>date</th>\n",
       "      <th>mes</th>\n",
       "      <th>fatal</th>\n",
       "      <th>sexo</th>\n",
       "      <th>especie_cat</th>\n",
       "      <th>age_limpio</th>\n",
       "    </tr>\n",
       "  </thead>\n",
       "  <tbody>\n",
       "    <tr>\n",
       "      <th>0</th>\n",
       "      <td>2018.06.25</td>\n",
       "      <td>2018</td>\n",
       "      <td>Boating</td>\n",
       "      <td>usa</td>\n",
       "      <td>White shark</td>\n",
       "      <td>25-Jun-2018</td>\n",
       "      <td>Jun</td>\n",
       "      <td>n</td>\n",
       "      <td>F</td>\n",
       "      <td>White</td>\n",
       "      <td>57.0</td>\n",
       "    </tr>\n",
       "    <tr>\n",
       "      <th>1</th>\n",
       "      <td>2018.06.03.a</td>\n",
       "      <td>2018</td>\n",
       "      <td>Unprovoked</td>\n",
       "      <td>brazil</td>\n",
       "      <td>Tiger shark</td>\n",
       "      <td>03-Jun-2018</td>\n",
       "      <td>Jun</td>\n",
       "      <td>y</td>\n",
       "      <td>M</td>\n",
       "      <td>Tiger</td>\n",
       "      <td>18.0</td>\n",
       "    </tr>\n",
       "  </tbody>\n",
       "</table>\n",
       "</div>"
      ],
      "text/plain": [
       "    case_number  year        type country     species_         date  mes  \\\n",
       "0    2018.06.25  2018     Boating     usa  White shark  25-Jun-2018  Jun   \n",
       "1  2018.06.03.a  2018  Unprovoked  brazil  Tiger shark  03-Jun-2018  Jun   \n",
       "\n",
       "  fatal sexo especie_cat  age_limpio  \n",
       "0     n    F       White        57.0  \n",
       "1     y    M       Tiger        18.0  "
      ]
     },
     "execution_count": 3,
     "metadata": {},
     "output_type": "execute_result"
    }
   ],
   "source": [
    "df = pd.read_csv(\"datos/3.ataques_limpio.csv\", index_col = 0)\n",
    "df.head(2)"
   ]
  },
  {
   "attachments": {},
   "cell_type": "markdown",
   "metadata": {},
   "source": [
    "### 1. Lo primero que tenemos que evaluar es en que columnas tenemos nulos y que cantidad tenemos en cada una. ¿Hay alguna columna con una gran cantidad de nulos? En caso de que sea así deberemos eliminarla."
   ]
  },
  {
   "cell_type": "code",
   "execution_count": 4,
   "metadata": {},
   "outputs": [
    {
     "data": {
      "text/html": [
       "<div>\n",
       "<style scoped>\n",
       "    .dataframe tbody tr th:only-of-type {\n",
       "        vertical-align: middle;\n",
       "    }\n",
       "\n",
       "    .dataframe tbody tr th {\n",
       "        vertical-align: top;\n",
       "    }\n",
       "\n",
       "    .dataframe thead th {\n",
       "        text-align: right;\n",
       "    }\n",
       "</style>\n",
       "<table border=\"1\" class=\"dataframe\">\n",
       "  <thead>\n",
       "    <tr style=\"text-align: right;\">\n",
       "      <th></th>\n",
       "      <th>missing</th>\n",
       "      <th>total</th>\n",
       "      <th>percent</th>\n",
       "    </tr>\n",
       "  </thead>\n",
       "  <tbody>\n",
       "    <tr>\n",
       "      <th>age_limpio</th>\n",
       "      <td>158</td>\n",
       "      <td>1672</td>\n",
       "      <td>9.449761</td>\n",
       "    </tr>\n",
       "    <tr>\n",
       "      <th>species_</th>\n",
       "      <td>126</td>\n",
       "      <td>1672</td>\n",
       "      <td>7.535885</td>\n",
       "    </tr>\n",
       "    <tr>\n",
       "      <th>especie_cat</th>\n",
       "      <td>126</td>\n",
       "      <td>1672</td>\n",
       "      <td>7.535885</td>\n",
       "    </tr>\n",
       "    <tr>\n",
       "      <th>fatal</th>\n",
       "      <td>97</td>\n",
       "      <td>1672</td>\n",
       "      <td>5.801435</td>\n",
       "    </tr>\n",
       "    <tr>\n",
       "      <th>mes</th>\n",
       "      <td>50</td>\n",
       "      <td>1672</td>\n",
       "      <td>2.990431</td>\n",
       "    </tr>\n",
       "    <tr>\n",
       "      <th>sexo</th>\n",
       "      <td>14</td>\n",
       "      <td>1672</td>\n",
       "      <td>0.837321</td>\n",
       "    </tr>\n",
       "    <tr>\n",
       "      <th>country</th>\n",
       "      <td>10</td>\n",
       "      <td>1672</td>\n",
       "      <td>0.598086</td>\n",
       "    </tr>\n",
       "    <tr>\n",
       "      <th>case_number</th>\n",
       "      <td>0</td>\n",
       "      <td>1672</td>\n",
       "      <td>0.000000</td>\n",
       "    </tr>\n",
       "    <tr>\n",
       "      <th>year</th>\n",
       "      <td>0</td>\n",
       "      <td>1672</td>\n",
       "      <td>0.000000</td>\n",
       "    </tr>\n",
       "    <tr>\n",
       "      <th>type</th>\n",
       "      <td>0</td>\n",
       "      <td>1672</td>\n",
       "      <td>0.000000</td>\n",
       "    </tr>\n",
       "    <tr>\n",
       "      <th>date</th>\n",
       "      <td>0</td>\n",
       "      <td>1672</td>\n",
       "      <td>0.000000</td>\n",
       "    </tr>\n",
       "  </tbody>\n",
       "</table>\n",
       "</div>"
      ],
      "text/plain": [
       "             missing  total   percent\n",
       "age_limpio       158   1672  9.449761\n",
       "species_         126   1672  7.535885\n",
       "especie_cat      126   1672  7.535885\n",
       "fatal             97   1672  5.801435\n",
       "mes               50   1672  2.990431\n",
       "sexo              14   1672  0.837321\n",
       "country           10   1672  0.598086\n",
       "case_number        0   1672  0.000000\n",
       "year               0   1672  0.000000\n",
       "type               0   1672  0.000000\n",
       "date               0   1672  0.000000"
      ]
     },
     "execution_count": 4,
     "metadata": {},
     "output_type": "execute_result"
    }
   ],
   "source": [
    "df.stb.missing()"
   ]
  },
  {
   "cell_type": "code",
   "execution_count": 5,
   "metadata": {},
   "outputs": [
    {
     "data": {
      "text/html": [
       "<div>\n",
       "<style scoped>\n",
       "    .dataframe tbody tr th:only-of-type {\n",
       "        vertical-align: middle;\n",
       "    }\n",
       "\n",
       "    .dataframe tbody tr th {\n",
       "        vertical-align: top;\n",
       "    }\n",
       "\n",
       "    .dataframe thead th {\n",
       "        text-align: right;\n",
       "    }\n",
       "</style>\n",
       "<table border=\"1\" class=\"dataframe\">\n",
       "  <thead>\n",
       "    <tr style=\"text-align: right;\">\n",
       "      <th></th>\n",
       "      <th>missing</th>\n",
       "      <th>total</th>\n",
       "      <th>percent</th>\n",
       "    </tr>\n",
       "  </thead>\n",
       "  <tbody>\n",
       "    <tr>\n",
       "      <th>species_</th>\n",
       "      <td>126</td>\n",
       "      <td>1672</td>\n",
       "      <td>7.535885</td>\n",
       "    </tr>\n",
       "    <tr>\n",
       "      <th>especie_cat</th>\n",
       "      <td>126</td>\n",
       "      <td>1672</td>\n",
       "      <td>7.535885</td>\n",
       "    </tr>\n",
       "    <tr>\n",
       "      <th>fatal</th>\n",
       "      <td>97</td>\n",
       "      <td>1672</td>\n",
       "      <td>5.801435</td>\n",
       "    </tr>\n",
       "    <tr>\n",
       "      <th>mes</th>\n",
       "      <td>50</td>\n",
       "      <td>1672</td>\n",
       "      <td>2.990431</td>\n",
       "    </tr>\n",
       "    <tr>\n",
       "      <th>sexo</th>\n",
       "      <td>14</td>\n",
       "      <td>1672</td>\n",
       "      <td>0.837321</td>\n",
       "    </tr>\n",
       "    <tr>\n",
       "      <th>country</th>\n",
       "      <td>10</td>\n",
       "      <td>1672</td>\n",
       "      <td>0.598086</td>\n",
       "    </tr>\n",
       "    <tr>\n",
       "      <th>case_number</th>\n",
       "      <td>0</td>\n",
       "      <td>1672</td>\n",
       "      <td>0.000000</td>\n",
       "    </tr>\n",
       "    <tr>\n",
       "      <th>type</th>\n",
       "      <td>0</td>\n",
       "      <td>1672</td>\n",
       "      <td>0.000000</td>\n",
       "    </tr>\n",
       "    <tr>\n",
       "      <th>date</th>\n",
       "      <td>0</td>\n",
       "      <td>1672</td>\n",
       "      <td>0.000000</td>\n",
       "    </tr>\n",
       "  </tbody>\n",
       "</table>\n",
       "</div>"
      ],
      "text/plain": [
       "             missing  total   percent\n",
       "species_         126   1672  7.535885\n",
       "especie_cat      126   1672  7.535885\n",
       "fatal             97   1672  5.801435\n",
       "mes               50   1672  2.990431\n",
       "sexo              14   1672  0.837321\n",
       "country           10   1672  0.598086\n",
       "case_number        0   1672  0.000000\n",
       "type               0   1672  0.000000\n",
       "date               0   1672  0.000000"
      ]
     },
     "execution_count": 5,
     "metadata": {},
     "output_type": "execute_result"
    }
   ],
   "source": [
    "df_cat=df.select_dtypes(include=\"object\")\n",
    "df_cat.stb.missing()\n"
   ]
  },
  {
   "cell_type": "code",
   "execution_count": 6,
   "metadata": {},
   "outputs": [
    {
     "data": {
      "text/html": [
       "<div>\n",
       "<style scoped>\n",
       "    .dataframe tbody tr th:only-of-type {\n",
       "        vertical-align: middle;\n",
       "    }\n",
       "\n",
       "    .dataframe tbody tr th {\n",
       "        vertical-align: top;\n",
       "    }\n",
       "\n",
       "    .dataframe thead th {\n",
       "        text-align: right;\n",
       "    }\n",
       "</style>\n",
       "<table border=\"1\" class=\"dataframe\">\n",
       "  <thead>\n",
       "    <tr style=\"text-align: right;\">\n",
       "      <th></th>\n",
       "      <th>missing</th>\n",
       "      <th>total</th>\n",
       "      <th>percent</th>\n",
       "    </tr>\n",
       "  </thead>\n",
       "  <tbody>\n",
       "    <tr>\n",
       "      <th>age_limpio</th>\n",
       "      <td>158</td>\n",
       "      <td>1672</td>\n",
       "      <td>9.449761</td>\n",
       "    </tr>\n",
       "    <tr>\n",
       "      <th>year</th>\n",
       "      <td>0</td>\n",
       "      <td>1672</td>\n",
       "      <td>0.000000</td>\n",
       "    </tr>\n",
       "  </tbody>\n",
       "</table>\n",
       "</div>"
      ],
      "text/plain": [
       "            missing  total   percent\n",
       "age_limpio      158   1672  9.449761\n",
       "year              0   1672  0.000000"
      ]
     },
     "execution_count": 6,
     "metadata": {},
     "output_type": "execute_result"
    }
   ],
   "source": [
    "df_num=df.select_dtypes(include=np.number)\n",
    "df_num.stb.missing()"
   ]
  },
  {
   "attachments": {},
   "cell_type": "markdown",
   "metadata": {},
   "source": [
    "1.2 ¿Hay alguna columna con una gran cantidad de nulos? En caso de que sea así deberemos eliminarla."
   ]
  },
  {
   "attachments": {},
   "cell_type": "markdown",
   "metadata": {},
   "source": [
    "No hay una columna con gran cantidad de nulos"
   ]
  },
  {
   "attachments": {},
   "cell_type": "markdown",
   "metadata": {},
   "source": [
    "### 2. Es el momento de eliminar los nulos:\n",
    "\n",
    "2.1 Reemplazad los valores nulos de la columna age por la media de la edad, redondeada a dos decimales."
   ]
  },
  {
   "cell_type": "code",
   "execution_count": 7,
   "metadata": {},
   "outputs": [],
   "source": [
    "df['age_limpio'].fillna(round(df['age_limpio'].mean()) ,inplace = True)"
   ]
  },
  {
   "cell_type": "code",
   "execution_count": 8,
   "metadata": {},
   "outputs": [
    {
     "data": {
      "text/plain": [
       "0"
      ]
     },
     "execution_count": 8,
     "metadata": {},
     "output_type": "execute_result"
    }
   ],
   "source": [
    "df['age_limpio'].isnull().sum()"
   ]
  },
  {
   "attachments": {},
   "cell_type": "markdown",
   "metadata": {},
   "source": [
    "2.2 En relación a la columna de country al tratarse de una columna de tipo categórica, reemplazad los valores nulos por una nueva categória que se llame Unknown."
   ]
  },
  {
   "cell_type": "code",
   "execution_count": 9,
   "metadata": {},
   "outputs": [],
   "source": [
    "df[\"country\"].replace(np.nan, \"Unknown\", inplace = True)"
   ]
  },
  {
   "cell_type": "code",
   "execution_count": 10,
   "metadata": {},
   "outputs": [
    {
     "data": {
      "text/plain": [
       "0"
      ]
     },
     "execution_count": 10,
     "metadata": {},
     "output_type": "execute_result"
    }
   ],
   "source": [
    "df['country'].isnull().sum()"
   ]
  },
  {
   "attachments": {},
   "cell_type": "markdown",
   "metadata": {},
   "source": [
    "2.3 Reemplazad los valores nulos de la columna fatal por Unknown."
   ]
  },
  {
   "cell_type": "code",
   "execution_count": 11,
   "metadata": {},
   "outputs": [],
   "source": [
    "df[\"fatal\"].replace(np.nan, \"Unknown\", inplace = True)"
   ]
  },
  {
   "cell_type": "code",
   "execution_count": 12,
   "metadata": {},
   "outputs": [
    {
     "data": {
      "text/plain": [
       "0"
      ]
     },
     "execution_count": 12,
     "metadata": {},
     "output_type": "execute_result"
    }
   ],
   "source": [
    "df['fatal'].isnull().sum()"
   ]
  },
  {
   "attachments": {},
   "cell_type": "markdown",
   "metadata": {},
   "source": [
    "2.4 Reemplazad los valores nulos de la columna type por el valor más frecuente (la moda)."
   ]
  },
  {
   "cell_type": "code",
   "execution_count": 13,
   "metadata": {},
   "outputs": [
    {
     "data": {
      "text/plain": [
       "0"
      ]
     },
     "execution_count": 13,
     "metadata": {},
     "output_type": "execute_result"
    }
   ],
   "source": [
    "df['type'].isnull().sum()"
   ]
  },
  {
   "cell_type": "code",
   "execution_count": 14,
   "metadata": {},
   "outputs": [],
   "source": [
    "# No existen valores nulos en la columna type, por lo que dejamos comentada la fórmula que se aplicaría en caso de existir.\n",
    "# df[\"type\"].replace(np.nan, df[\"type\"].mode()[0], inplace = True)"
   ]
  },
  {
   "attachments": {},
   "cell_type": "markdown",
   "metadata": {},
   "source": [
    "2.5 Reemplazad los valores nulos de la columna fecha por Unknown."
   ]
  },
  {
   "cell_type": "code",
   "execution_count": 15,
   "metadata": {},
   "outputs": [
    {
     "data": {
      "text/plain": [
       "0"
      ]
     },
     "execution_count": 15,
     "metadata": {},
     "output_type": "execute_result"
    }
   ],
   "source": [
    "df['date'].isnull().sum()"
   ]
  },
  {
   "cell_type": "code",
   "execution_count": 16,
   "metadata": {},
   "outputs": [],
   "source": [
    "# No existen valores nulos en la columna date, por lo que dejamos comentada la fórmula que se aplicaría en caso de existir.\n",
    "# df[\"date\"].replace(np.nan, \"Unknown \", inplace = True)"
   ]
  },
  {
   "attachments": {},
   "cell_type": "markdown",
   "metadata": {},
   "source": [
    "## 3. Guardad el csv para seguir trabajando con el en los siguientes ejercicios de pair."
   ]
  },
  {
   "cell_type": "code",
   "execution_count": 17,
   "metadata": {},
   "outputs": [
    {
     "data": {
      "text/html": [
       "<div>\n",
       "<style scoped>\n",
       "    .dataframe tbody tr th:only-of-type {\n",
       "        vertical-align: middle;\n",
       "    }\n",
       "\n",
       "    .dataframe tbody tr th {\n",
       "        vertical-align: top;\n",
       "    }\n",
       "\n",
       "    .dataframe thead th {\n",
       "        text-align: right;\n",
       "    }\n",
       "</style>\n",
       "<table border=\"1\" class=\"dataframe\">\n",
       "  <thead>\n",
       "    <tr style=\"text-align: right;\">\n",
       "      <th></th>\n",
       "      <th>case_number</th>\n",
       "      <th>year</th>\n",
       "      <th>type</th>\n",
       "      <th>country</th>\n",
       "      <th>species_</th>\n",
       "      <th>date</th>\n",
       "      <th>mes</th>\n",
       "      <th>fatal</th>\n",
       "      <th>sexo</th>\n",
       "      <th>especie_cat</th>\n",
       "      <th>age_limpio</th>\n",
       "    </tr>\n",
       "  </thead>\n",
       "  <tbody>\n",
       "    <tr>\n",
       "      <th>0</th>\n",
       "      <td>2018.06.25</td>\n",
       "      <td>2018</td>\n",
       "      <td>Boating</td>\n",
       "      <td>usa</td>\n",
       "      <td>White shark</td>\n",
       "      <td>25-Jun-2018</td>\n",
       "      <td>Jun</td>\n",
       "      <td>n</td>\n",
       "      <td>F</td>\n",
       "      <td>White</td>\n",
       "      <td>57.0</td>\n",
       "    </tr>\n",
       "    <tr>\n",
       "      <th>1</th>\n",
       "      <td>2018.06.03.a</td>\n",
       "      <td>2018</td>\n",
       "      <td>Unprovoked</td>\n",
       "      <td>brazil</td>\n",
       "      <td>Tiger shark</td>\n",
       "      <td>03-Jun-2018</td>\n",
       "      <td>Jun</td>\n",
       "      <td>y</td>\n",
       "      <td>M</td>\n",
       "      <td>Tiger</td>\n",
       "      <td>18.0</td>\n",
       "    </tr>\n",
       "    <tr>\n",
       "      <th>2</th>\n",
       "      <td>2018.05.26.b</td>\n",
       "      <td>2018</td>\n",
       "      <td>Unprovoked</td>\n",
       "      <td>usa</td>\n",
       "      <td>Bull shark, 6'</td>\n",
       "      <td>26-May-2018</td>\n",
       "      <td>May</td>\n",
       "      <td>n</td>\n",
       "      <td>M</td>\n",
       "      <td>Bull</td>\n",
       "      <td>15.0</td>\n",
       "    </tr>\n",
       "    <tr>\n",
       "      <th>3</th>\n",
       "      <td>2018.05.24</td>\n",
       "      <td>2018</td>\n",
       "      <td>Provoked</td>\n",
       "      <td>australia</td>\n",
       "      <td>Grey reef shark</td>\n",
       "      <td>24-May-2018</td>\n",
       "      <td>May</td>\n",
       "      <td>n</td>\n",
       "      <td>M</td>\n",
       "      <td>Grey</td>\n",
       "      <td>32.0</td>\n",
       "    </tr>\n",
       "    <tr>\n",
       "      <th>4</th>\n",
       "      <td>2018.05.13.a</td>\n",
       "      <td>2018</td>\n",
       "      <td>Invalid</td>\n",
       "      <td>england</td>\n",
       "      <td>Invalid incident</td>\n",
       "      <td>13-May-2018</td>\n",
       "      <td>May</td>\n",
       "      <td>n</td>\n",
       "      <td>M</td>\n",
       "      <td>Unspecified</td>\n",
       "      <td>21.0</td>\n",
       "    </tr>\n",
       "  </tbody>\n",
       "</table>\n",
       "</div>"
      ],
      "text/plain": [
       "    case_number  year        type    country          species_         date  \\\n",
       "0    2018.06.25  2018     Boating        usa       White shark  25-Jun-2018   \n",
       "1  2018.06.03.a  2018  Unprovoked     brazil       Tiger shark  03-Jun-2018   \n",
       "2  2018.05.26.b  2018  Unprovoked        usa    Bull shark, 6'  26-May-2018   \n",
       "3    2018.05.24  2018    Provoked  australia   Grey reef shark  24-May-2018   \n",
       "4  2018.05.13.a  2018     Invalid    england  Invalid incident  13-May-2018   \n",
       "\n",
       "   mes fatal sexo  especie_cat  age_limpio  \n",
       "0  Jun     n    F        White        57.0  \n",
       "1  Jun     y    M        Tiger        18.0  \n",
       "2  May     n    M         Bull        15.0  \n",
       "3  May     n    M         Grey        32.0  \n",
       "4  May     n    M  Unspecified        21.0  "
      ]
     },
     "execution_count": 17,
     "metadata": {},
     "output_type": "execute_result"
    }
   ],
   "source": [
    "df.head()"
   ]
  },
  {
   "cell_type": "code",
   "execution_count": 18,
   "metadata": {},
   "outputs": [],
   "source": [
    "df.rename(columns={\"age_limpio\":\"age\"}, inplace=True)"
   ]
  },
  {
   "cell_type": "code",
   "execution_count": 19,
   "metadata": {},
   "outputs": [
    {
     "data": {
      "text/html": [
       "<div>\n",
       "<style scoped>\n",
       "    .dataframe tbody tr th:only-of-type {\n",
       "        vertical-align: middle;\n",
       "    }\n",
       "\n",
       "    .dataframe tbody tr th {\n",
       "        vertical-align: top;\n",
       "    }\n",
       "\n",
       "    .dataframe thead th {\n",
       "        text-align: right;\n",
       "    }\n",
       "</style>\n",
       "<table border=\"1\" class=\"dataframe\">\n",
       "  <thead>\n",
       "    <tr style=\"text-align: right;\">\n",
       "      <th></th>\n",
       "      <th>case_number</th>\n",
       "      <th>year</th>\n",
       "      <th>type</th>\n",
       "      <th>country</th>\n",
       "      <th>species_</th>\n",
       "      <th>date</th>\n",
       "      <th>mes</th>\n",
       "      <th>fatal</th>\n",
       "      <th>sexo</th>\n",
       "      <th>especie_cat</th>\n",
       "      <th>age</th>\n",
       "    </tr>\n",
       "  </thead>\n",
       "  <tbody>\n",
       "    <tr>\n",
       "      <th>0</th>\n",
       "      <td>2018.06.25</td>\n",
       "      <td>2018</td>\n",
       "      <td>Boating</td>\n",
       "      <td>usa</td>\n",
       "      <td>White shark</td>\n",
       "      <td>25-Jun-2018</td>\n",
       "      <td>Jun</td>\n",
       "      <td>n</td>\n",
       "      <td>F</td>\n",
       "      <td>White</td>\n",
       "      <td>57.0</td>\n",
       "    </tr>\n",
       "    <tr>\n",
       "      <th>1</th>\n",
       "      <td>2018.06.03.a</td>\n",
       "      <td>2018</td>\n",
       "      <td>Unprovoked</td>\n",
       "      <td>brazil</td>\n",
       "      <td>Tiger shark</td>\n",
       "      <td>03-Jun-2018</td>\n",
       "      <td>Jun</td>\n",
       "      <td>y</td>\n",
       "      <td>M</td>\n",
       "      <td>Tiger</td>\n",
       "      <td>18.0</td>\n",
       "    </tr>\n",
       "    <tr>\n",
       "      <th>2</th>\n",
       "      <td>2018.05.26.b</td>\n",
       "      <td>2018</td>\n",
       "      <td>Unprovoked</td>\n",
       "      <td>usa</td>\n",
       "      <td>Bull shark, 6'</td>\n",
       "      <td>26-May-2018</td>\n",
       "      <td>May</td>\n",
       "      <td>n</td>\n",
       "      <td>M</td>\n",
       "      <td>Bull</td>\n",
       "      <td>15.0</td>\n",
       "    </tr>\n",
       "    <tr>\n",
       "      <th>3</th>\n",
       "      <td>2018.05.24</td>\n",
       "      <td>2018</td>\n",
       "      <td>Provoked</td>\n",
       "      <td>australia</td>\n",
       "      <td>Grey reef shark</td>\n",
       "      <td>24-May-2018</td>\n",
       "      <td>May</td>\n",
       "      <td>n</td>\n",
       "      <td>M</td>\n",
       "      <td>Grey</td>\n",
       "      <td>32.0</td>\n",
       "    </tr>\n",
       "    <tr>\n",
       "      <th>4</th>\n",
       "      <td>2018.05.13.a</td>\n",
       "      <td>2018</td>\n",
       "      <td>Invalid</td>\n",
       "      <td>england</td>\n",
       "      <td>Invalid incident</td>\n",
       "      <td>13-May-2018</td>\n",
       "      <td>May</td>\n",
       "      <td>n</td>\n",
       "      <td>M</td>\n",
       "      <td>Unspecified</td>\n",
       "      <td>21.0</td>\n",
       "    </tr>\n",
       "  </tbody>\n",
       "</table>\n",
       "</div>"
      ],
      "text/plain": [
       "    case_number  year        type    country          species_         date  \\\n",
       "0    2018.06.25  2018     Boating        usa       White shark  25-Jun-2018   \n",
       "1  2018.06.03.a  2018  Unprovoked     brazil       Tiger shark  03-Jun-2018   \n",
       "2  2018.05.26.b  2018  Unprovoked        usa    Bull shark, 6'  26-May-2018   \n",
       "3    2018.05.24  2018    Provoked  australia   Grey reef shark  24-May-2018   \n",
       "4  2018.05.13.a  2018     Invalid    england  Invalid incident  13-May-2018   \n",
       "\n",
       "   mes fatal sexo  especie_cat   age  \n",
       "0  Jun     n    F        White  57.0  \n",
       "1  Jun     y    M        Tiger  18.0  \n",
       "2  May     n    M         Bull  15.0  \n",
       "3  May     n    M         Grey  32.0  \n",
       "4  May     n    M  Unspecified  21.0  "
      ]
     },
     "execution_count": 19,
     "metadata": {},
     "output_type": "execute_result"
    }
   ],
   "source": [
    "df.head()"
   ]
  },
  {
   "cell_type": "code",
   "execution_count": 22,
   "metadata": {},
   "outputs": [],
   "source": [
    "df.drop(columns= \"species_\", axis=1,inplace=True)"
   ]
  },
  {
   "cell_type": "code",
   "execution_count": 23,
   "metadata": {},
   "outputs": [],
   "source": [
    "df.to_csv(\"datos/4.ataques_limpio.csv\")"
   ]
  }
 ],
 "metadata": {
  "kernelspec": {
   "display_name": "base",
   "language": "python",
   "name": "python3"
  },
  "language_info": {
   "codemirror_mode": {
    "name": "ipython",
    "version": 3
   },
   "file_extension": ".py",
   "mimetype": "text/x-python",
   "name": "python",
   "nbconvert_exporter": "python",
   "pygments_lexer": "ipython3",
   "version": "3.9.13"
  },
  "orig_nbformat": 4,
  "vscode": {
   "interpreter": {
    "hash": "f2104d434ce3092b7c07d5af98c90652611c7ad655b2a72b59e9e675e449bc7b"
   }
  }
 },
 "nbformat": 4,
 "nbformat_minor": 2
}
