{
 "cells": [
  {
   "attachments": {},
   "cell_type": "markdown",
   "metadata": {},
   "source": [
    "# Pair Programming ETL Transformación III"
   ]
  },
  {
   "attachments": {},
   "cell_type": "markdown",
   "metadata": {},
   "source": [
    "En la lección de hoy aprendimos como Crearnos una clase que nos permita limpiar los datos obtenidos de la API.\n",
    "En este ejercicio, tendréis que crear una clase con el código que usamos en los ejercicios de pair programming de ETL Transformación I y II."
   ]
  },
  {
   "cell_type": "code",
   "execution_count": 1,
   "metadata": {},
   "outputs": [],
   "source": [
    "import pandas as pd\n",
    "import requests\n",
    "from datetime import datetime, timedelta"
   ]
  },
  {
   "attachments": {},
   "cell_type": "markdown",
   "metadata": {},
   "source": [
    "## Cargamos el `csv` en el que se trabajará"
   ]
  },
  {
   "cell_type": "code",
   "execution_count": 2,
   "metadata": {},
   "outputs": [
    {
     "data": {
      "text/html": [
       "<div>\n",
       "<style scoped>\n",
       "    .dataframe tbody tr th:only-of-type {\n",
       "        vertical-align: middle;\n",
       "    }\n",
       "\n",
       "    .dataframe tbody tr th {\n",
       "        vertical-align: top;\n",
       "    }\n",
       "\n",
       "    .dataframe thead th {\n",
       "        text-align: right;\n",
       "    }\n",
       "</style>\n",
       "<table border=\"1\" class=\"dataframe\">\n",
       "  <thead>\n",
       "    <tr style=\"text-align: right;\">\n",
       "      <th></th>\n",
       "      <th>timepoint</th>\n",
       "      <th>cloudcover</th>\n",
       "      <th>highcloud</th>\n",
       "      <th>midcloud</th>\n",
       "      <th>lowcloud</th>\n",
       "      <th>rh_profile</th>\n",
       "      <th>wind_profile</th>\n",
       "      <th>temp2m</th>\n",
       "      <th>lifted_index</th>\n",
       "      <th>rh2m</th>\n",
       "      <th>msl_pressure</th>\n",
       "      <th>prec_type</th>\n",
       "      <th>prec_amount</th>\n",
       "      <th>snow_depth</th>\n",
       "      <th>wind10m.direction</th>\n",
       "      <th>wind10m.speed</th>\n",
       "      <th>pais</th>\n",
       "    </tr>\n",
       "  </thead>\n",
       "  <tbody>\n",
       "    <tr>\n",
       "      <th>0</th>\n",
       "      <td>3</td>\n",
       "      <td>1</td>\n",
       "      <td>-9999</td>\n",
       "      <td>-9999</td>\n",
       "      <td>-9999</td>\n",
       "      <td>[{'layer': '950mb', 'rh': 14}, {'layer': '900m...</td>\n",
       "      <td>[{'layer': '950mb', 'direction': 100, 'speed':...</td>\n",
       "      <td>25</td>\n",
       "      <td>2</td>\n",
       "      <td>11</td>\n",
       "      <td>1011</td>\n",
       "      <td>none</td>\n",
       "      <td>0</td>\n",
       "      <td>0</td>\n",
       "      <td>115</td>\n",
       "      <td>3</td>\n",
       "      <td>Papua New Guinea</td>\n",
       "    </tr>\n",
       "    <tr>\n",
       "      <th>1</th>\n",
       "      <td>6</td>\n",
       "      <td>1</td>\n",
       "      <td>-9999</td>\n",
       "      <td>-9999</td>\n",
       "      <td>-9999</td>\n",
       "      <td>[{'layer': '950mb', 'rh': 14}, {'layer': '900m...</td>\n",
       "      <td>[{'layer': '950mb', 'direction': 100, 'speed':...</td>\n",
       "      <td>26</td>\n",
       "      <td>2</td>\n",
       "      <td>11</td>\n",
       "      <td>1013</td>\n",
       "      <td>none</td>\n",
       "      <td>1</td>\n",
       "      <td>0</td>\n",
       "      <td>100</td>\n",
       "      <td>3</td>\n",
       "      <td>Papua New Guinea</td>\n",
       "    </tr>\n",
       "  </tbody>\n",
       "</table>\n",
       "</div>"
      ],
      "text/plain": [
       "   timepoint  cloudcover  highcloud  midcloud  lowcloud  \\\n",
       "0          3           1      -9999     -9999     -9999   \n",
       "1          6           1      -9999     -9999     -9999   \n",
       "\n",
       "                                          rh_profile  \\\n",
       "0  [{'layer': '950mb', 'rh': 14}, {'layer': '900m...   \n",
       "1  [{'layer': '950mb', 'rh': 14}, {'layer': '900m...   \n",
       "\n",
       "                                        wind_profile  temp2m  lifted_index  \\\n",
       "0  [{'layer': '950mb', 'direction': 100, 'speed':...      25             2   \n",
       "1  [{'layer': '950mb', 'direction': 100, 'speed':...      26             2   \n",
       "\n",
       "   rh2m  msl_pressure prec_type  prec_amount  snow_depth  wind10m.direction  \\\n",
       "0    11          1011      none            0           0                115   \n",
       "1    11          1013      none            1           0                100   \n",
       "\n",
       "   wind10m.speed              pais  \n",
       "0              3  Papua New Guinea  \n",
       "1              3  Papua New Guinea  "
      ]
     },
     "execution_count": 2,
     "metadata": {},
     "output_type": "execute_result"
    }
   ],
   "source": [
    "df = pd.read_csv(\"files/1.paises_meteo_info.csv\", index_col = 0)\n",
    "df.head(2)"
   ]
  },
  {
   "cell_type": "code",
   "execution_count": 4,
   "metadata": {},
   "outputs": [
    {
     "data": {
      "text/plain": [
       "Index(['timepoint', 'cloudcover', 'highcloud', 'midcloud', 'lowcloud',\n",
       "       'rh_profile', 'wind_profile', 'temp2m', 'lifted_index', 'rh2m',\n",
       "       'msl_pressure', 'prec_type', 'prec_amount', 'snow_depth',\n",
       "       'wind10m.direction', 'wind10m.speed', 'pais'],\n",
       "      dtype='object')"
      ]
     },
     "execution_count": 4,
     "metadata": {},
     "output_type": "execute_result"
    }
   ],
   "source": [
    "df.columns"
   ]
  },
  {
   "attachments": {},
   "cell_type": "markdown",
   "metadata": {},
   "source": [
    "## Definición de variables"
   ]
  },
  {
   "cell_type": "code",
   "execution_count": null,
   "metadata": {},
   "outputs": [],
   "source": [
    "# Definimos las variables que vamos a necesitar para hacer las \n",
    "# llamadas a cada uno de los métodos de la clase.\n",
    "\n",
    "dic_paises = {\"USA\":[-100.445882,39.7837304,], \n",
    "            \"Australia\":[134.755,-24.7761086],\n",
    "            \"South_Africa\":[24.991639,-28.8166236],\n",
    "            \"New Zealand\":[172.8344077,-41.5000831],\n",
    "            \"Papua New Guinea\":[144.2489081,-5.6816069]}\n",
    "producto_meteo = \"meteo\"\n",
    "producto_astro = \"astro\""
   ]
  },
  {
   "attachments": {},
   "cell_type": "markdown",
   "metadata": {},
   "source": [
    "## Creamos la clase "
   ]
  },
  {
   "cell_type": "code",
   "execution_count": 5,
   "metadata": {},
   "outputs": [],
   "source": [
    "class Extraccion: \n",
    "    # definimos el método constructor con las variables globales que usaremos.\n",
    "    def __init__(self):\n",
    "\n",
    "        # definimos cada una de las variables.\n",
    "  \n",
    "    # Este método llamará a la API para cada país\n",
    "\n",
    "    def seleccionar_paises (diccionario_paises, producto):\n",
    "\n",
    "        # Definimos la variable producto\n",
    "        self.df_final = pd.DataFrame()\n",
    "\n",
    "        # hacemos la llamada  a la API iterando por cada uno de los países\n",
    "        for k,v in diccionario_paises.items():\n",
    "            lon = (v[0])\n",
    "            lat = (v[1])\n",
    "\n",
    "            url = f'http://www.7timer.info/bin/api.pl?lon=-{lon}&lat={lat}&product={producto}&output=json'\n",
    "        \n",
    "        response = requests.get(url=url)\n",
    "        \n",
    "        codigo_estado = response.status_code\n",
    "        \n",
    "        razon_estado = response.reason\n",
    "        \n",
    "        if codigo_estado == 200:\n",
    "            print('La peticion se ha realizado correctamente, se ha devuelto el código de estado:',codigo_estado,' y como razón del código de estado: ',razon_estado)\n",
    "        elif codigo_estado == 402:\n",
    "            print('No se ha podido autorizar usario, se ha devuelto el código de estado:', codigo_estado,' y como razón del código de estado: ',razon_estado)\n",
    "        elif codigo_estado == 404:\n",
    "            print('Algo ha salido mal, el recurso no se ha encontrado,se ha devuelto el código de estado:', codigo_estado,' y como razón del código de estado: ',razon_estado)\n",
    "        else:\n",
    "            print('Algo inesperado ha ocurrido, se ha devuelto el código de estado:', codigo_estado,' y como razón del código de estado: ',razon_estado)\n",
    "        \n",
    "        response.json()\n",
    "        # Se convierten los datos obtenidos en un df\n",
    "        df = pd.DataFrame.from_dict(pd.json_normalize(response.json()['dataseries']))\n",
    "        \n",
    "        # Creamos una columna llamada país donde se vaya registrando cada país\n",
    "        df[\"pais\"] = k\n",
    "\n",
    "        # Concatenamos los df que hemos obtenido con cada país\n",
    "        df_final = pd.concat([df_final,df],axis=0, ignore_index= True)\n",
    "\n",
    "        return df_final\n",
    "\n",
    "    # definimos el método para limpiar los datos obtenidos de la llamada a la API para el producto civil. \n",
    "    def limpiar_civil(self, df): \n",
    "\n",
    "        # lo primero que tenemos que hacer es crear la columna de fecha en el dataframe nuevo \n",
    "        # En este caso será la fecha del día de hoy. \n",
    "        hoy = datetime.now()\n",
    "        hoy = datetime.strftime(hoy, '%Y-%m-%d')\n",
    "\n",
    "        # creamos la nueva columna\n",
    "        df[\"fecha\"] = hoy\n",
    "\n",
    "        # de nuevo usamos el self para crear las nuevas columnas en función de los parámetros pasados al definir la clase. Recordamos, el caminito de baldosas amarillas.\n",
    "        df[\"latitud\"] = self.lat\n",
    "        df[\"longitud\"] = self.lon\n",
    "        df[\"ciudad\"] = self.ciudad\n",
    "        return df\n",
    "\n",
    "    # definimos un método para limpiar el resultado de la llamada a la API para el producto astro\n",
    "    def limpiar_astro(self, df):\n",
    "\n",
    "        #seleccionamos solo las columnas que nos interesan\n",
    "        df = df[[\"seeing\", \"transparency\", \"timepoint\"]]\n",
    "\n",
    "        # creamos la columna de fecha: \n",
    "        hoy = datetime.now()\n",
    "        hoy = datetime.strftime(hoy, '%Y-%m-%d')\n",
    "        df[\"fecha\"] = hoy\n",
    "\n",
    "\n",
    "        # insertamos las columnas de la localidad\n",
    "    \n",
    "        df[\"ciudad\"] = self.ciudad\n",
    "\n",
    "        return df\n",
    "    \n",
    "    # En este método mergean los df conseguidos. \n",
    "    def juntar_dfs(self, df_completo, df_civil, df_visibilidad): \n",
    "\n",
    "        df_hoy = pd.merge(df_civil , df_visibilidad , on=['fecha', \"timepoint\", \"ciudad\"], how = \"right\")\n",
    "        print(\"El df de hoy es \", df_hoy.columns)\n",
    "        print(\"-----------------------------------------\")\n",
    "        print(\"El df de completo es \", df_completo.columns)\n",
    "        # lo primero que hacemos es concatenar los dataframes con la información general. df_completo y df_civil\n",
    "        df_completo = pd.concat([df_completo, df_hoy], axis = 0)\n",
    "\n",
    "        \n",
    "        # guardamos los datos\n",
    "        df_completo.to_pickle('files/datos_actualizados.pkl')\n",
    "        df_completo.to_csv('files/datos_actualizados.csv')\n",
    "\n",
    "        return df_completo\n",
    "    \n",
    "    \n",
    "    # Con este método se chequean los datos obtenidos. \n",
    "    def chequear_datos(self, df): \n",
    "    \n",
    "        print(\"Las columnas son:\", \"\\n\")\n",
    "        print(list(df.columns))\n",
    "        print(\"-----------------------------------------\")\n",
    "\n",
    "        print(\"Los tipos de datos que tenemos son:\", \"\\n\")\n",
    "        print(df.dtypes)\n",
    "        print(\"-----------------------------------------\")\n",
    "\n",
    "        print(\"El porcentaje de nulos:\", \"\\n\")\n",
    "        print((df.isnull().sum() / df.shape[0]) *  100)\n",
    "\n",
    "\n",
    "    # Con este método se limpian las columnas del dataframe, \n",
    "   \n",
    "    def limpiar_dataframe(self, df, lista_columnas = []): \n",
    "\n",
    "        #convertimos la fecha a datetime\n",
    "        df[\"fecha\"] = pd.to_datetime(df[\"fecha\"])\n",
    "\n",
    "        # reemplazamos los nulos de las columnas por la media\n",
    "         # lista de columnas en las que queremos reemplazar los nulos\n",
    "        df[lista_columnas]=df[lista_columnas].fillna(df.mean())\n",
    "\n",
    "        \n",
    "        # renombrar columnas\n",
    "        \n",
    "        df.rename(columns = {\"ciudad_x\": \"ciudad\"}, inplace = True)\n",
    "\n",
    "        # quitar % \n",
    "        df[\"rh2m\"] = df[\"rh2m\"].replace(r\"%\", \"\", regex = True)\n",
    "\n",
    "        # guardamos los datos una vez limpios\n",
    "        df.to_pickle('files/datos_actualizados.pkl')\n",
    "        df.to_csv('files/datos_actualizados.csv')\n",
    "\n",
    "        return df"
   ]
  },
  {
   "cell_type": "code",
   "execution_count": 12,
   "metadata": {},
   "outputs": [],
   "source": []
  },
  {
   "attachments": {},
   "cell_type": "markdown",
   "metadata": {},
   "source": [
    "Método para llamar a la API de los países deseados"
   ]
  },
  {
   "cell_type": "code",
   "execution_count": 17,
   "metadata": {},
   "outputs": [],
   "source": [
    "# Este método llamará a la API para cada país\n",
    "\n",
    "def seleccionar_paises (diccionario_paises, producto):\n",
    "\n",
    "    # Definimos la variable producto\n",
    "    df_final = pd.DataFrame()\n",
    "\n",
    "    # hacemos la llamada  a la API iterando por cada uno de los países\n",
    "    for k,v in diccionario_paises.items():\n",
    "        lon = (v[0])\n",
    "        lat = (v[1])\n",
    "\n",
    "        url = f'http://www.7timer.info/bin/api.pl?lon=-{lon}&lat={lat}&product={producto}&output=json'\n",
    "    \n",
    "    response = requests.get(url=url)\n",
    "    \n",
    "    codigo_estado = response.status_code\n",
    "    \n",
    "    razon_estado = response.reason\n",
    "    \n",
    "    if codigo_estado == 200:\n",
    "        print('La peticion se ha realizado correctamente, se ha devuelto el código de estado:',codigo_estado,' y como razón del código de estado: ',razon_estado)\n",
    "    elif codigo_estado == 402:\n",
    "        print('No se ha podido autorizar usario, se ha devuelto el código de estado:', codigo_estado,' y como razón del código de estado: ',razon_estado)\n",
    "    elif codigo_estado == 404:\n",
    "        print('Algo ha salido mal, el recurso no se ha encontrado,se ha devuelto el código de estado:', codigo_estado,' y como razón del código de estado: ',razon_estado)\n",
    "    else:\n",
    "        print('Algo inesperado ha ocurrido, se ha devuelto el código de estado:', codigo_estado,' y como razón del código de estado: ',razon_estado)\n",
    "    \n",
    "    response.json()\n",
    "    # Se convierten los datos obtenidos en un df\n",
    "    df = pd.DataFrame.from_dict(pd.json_normalize(response.json()['dataseries']))\n",
    "    \n",
    "    # Creamos una columna llamada país donde se vaya registrando cada país\n",
    "    df[\"pais\"] = k\n",
    "\n",
    "    # Concatenamos los df que hemos obtenido con cada país\n",
    "    df_final = pd.concat([df_final,df],axis=0, ignore_index= True)\n",
    "\n",
    "    return df_final\n"
   ]
  },
  {
   "cell_type": "code",
   "execution_count": 18,
   "metadata": {},
   "outputs": [
    {
     "name": "stdout",
     "output_type": "stream",
     "text": [
      "La peticion se ha realizado correctamente, se ha devuelto el código de estado: 200  y como razón del código de estado:  OK\n"
     ]
    }
   ],
   "source": [
    "df_paises = seleccionar_paises(dic_paises,producto_meteo)"
   ]
  },
  {
   "cell_type": "code",
   "execution_count": 19,
   "metadata": {},
   "outputs": [
    {
     "data": {
      "text/html": [
       "<div>\n",
       "<style scoped>\n",
       "    .dataframe tbody tr th:only-of-type {\n",
       "        vertical-align: middle;\n",
       "    }\n",
       "\n",
       "    .dataframe tbody tr th {\n",
       "        vertical-align: top;\n",
       "    }\n",
       "\n",
       "    .dataframe thead th {\n",
       "        text-align: right;\n",
       "    }\n",
       "</style>\n",
       "<table border=\"1\" class=\"dataframe\">\n",
       "  <thead>\n",
       "    <tr style=\"text-align: right;\">\n",
       "      <th></th>\n",
       "      <th>timepoint</th>\n",
       "      <th>cloudcover</th>\n",
       "      <th>highcloud</th>\n",
       "      <th>midcloud</th>\n",
       "      <th>lowcloud</th>\n",
       "      <th>rh_profile</th>\n",
       "      <th>wind_profile</th>\n",
       "      <th>temp2m</th>\n",
       "      <th>lifted_index</th>\n",
       "      <th>rh2m</th>\n",
       "      <th>msl_pressure</th>\n",
       "      <th>prec_type</th>\n",
       "      <th>prec_amount</th>\n",
       "      <th>snow_depth</th>\n",
       "      <th>wind10m.direction</th>\n",
       "      <th>wind10m.speed</th>\n",
       "      <th>pais</th>\n",
       "    </tr>\n",
       "  </thead>\n",
       "  <tbody>\n",
       "    <tr>\n",
       "      <th>0</th>\n",
       "      <td>3</td>\n",
       "      <td>1</td>\n",
       "      <td>-9999</td>\n",
       "      <td>-9999</td>\n",
       "      <td>-9999</td>\n",
       "      <td>[{'layer': '950mb', 'rh': 12}, {'layer': '900m...</td>\n",
       "      <td>[{'layer': '950mb', 'direction': 105, 'speed':...</td>\n",
       "      <td>26</td>\n",
       "      <td>2</td>\n",
       "      <td>10</td>\n",
       "      <td>1010</td>\n",
       "      <td>none</td>\n",
       "      <td>0</td>\n",
       "      <td>0</td>\n",
       "      <td>105</td>\n",
       "      <td>3</td>\n",
       "      <td>Papua New Guinea</td>\n",
       "    </tr>\n",
       "    <tr>\n",
       "      <th>1</th>\n",
       "      <td>6</td>\n",
       "      <td>1</td>\n",
       "      <td>-9999</td>\n",
       "      <td>-9999</td>\n",
       "      <td>-9999</td>\n",
       "      <td>[{'layer': '950mb', 'rh': 12}, {'layer': '900m...</td>\n",
       "      <td>[{'layer': '950mb', 'direction': 100, 'speed':...</td>\n",
       "      <td>26</td>\n",
       "      <td>2</td>\n",
       "      <td>11</td>\n",
       "      <td>1012</td>\n",
       "      <td>none</td>\n",
       "      <td>1</td>\n",
       "      <td>0</td>\n",
       "      <td>105</td>\n",
       "      <td>3</td>\n",
       "      <td>Papua New Guinea</td>\n",
       "    </tr>\n",
       "  </tbody>\n",
       "</table>\n",
       "</div>"
      ],
      "text/plain": [
       "   timepoint  cloudcover  highcloud  midcloud  lowcloud  \\\n",
       "0          3           1      -9999     -9999     -9999   \n",
       "1          6           1      -9999     -9999     -9999   \n",
       "\n",
       "                                          rh_profile  \\\n",
       "0  [{'layer': '950mb', 'rh': 12}, {'layer': '900m...   \n",
       "1  [{'layer': '950mb', 'rh': 12}, {'layer': '900m...   \n",
       "\n",
       "                                        wind_profile  temp2m  lifted_index  \\\n",
       "0  [{'layer': '950mb', 'direction': 105, 'speed':...      26             2   \n",
       "1  [{'layer': '950mb', 'direction': 100, 'speed':...      26             2   \n",
       "\n",
       "   rh2m  msl_pressure prec_type  prec_amount  snow_depth wind10m.direction  \\\n",
       "0    10          1010      none            0           0               105   \n",
       "1    11          1012      none            1           0               105   \n",
       "\n",
       "   wind10m.speed              pais  \n",
       "0              3  Papua New Guinea  \n",
       "1              3  Papua New Guinea  "
      ]
     },
     "execution_count": 19,
     "metadata": {},
     "output_type": "execute_result"
    }
   ],
   "source": [
    "df_paises.head(2)"
   ]
  },
  {
   "attachments": {},
   "cell_type": "markdown",
   "metadata": {},
   "source": [
    "Método filtrar  "
   ]
  },
  {
   "cell_type": "code",
   "execution_count": null,
   "metadata": {},
   "outputs": [],
   "source": [
    "def filtrar_por_paises (dataframe):"
   ]
  },
  {
   "attachments": {},
   "cell_type": "markdown",
   "metadata": {},
   "source": [
    "### Aplicación de la clase Extracción"
   ]
  },
  {
   "cell_type": "code",
   "execution_count": 8,
   "metadata": {},
   "outputs": [
    {
     "data": {
      "text/plain": [
       "<__main__.Extraccion at 0x7fb2111f24f0>"
      ]
     },
     "execution_count": 8,
     "metadata": {},
     "output_type": "execute_result"
    }
   ],
   "source": [
    "# Creamos una variable llamada api que es resultado de la aplicación de la \n",
    "# clase Extracción, recibe como argumentos latitud, longitud y ciudad (Variables definidas anteriormente).\n",
    "\n",
    "api = Extraccion(latitud, longitud, ciudad)\n",
    "api"
   ]
  }
 ],
 "metadata": {
  "kernelspec": {
   "display_name": "base",
   "language": "python",
   "name": "python3"
  },
  "language_info": {
   "codemirror_mode": {
    "name": "ipython",
    "version": 3
   },
   "file_extension": ".py",
   "mimetype": "text/x-python",
   "name": "python",
   "nbconvert_exporter": "python",
   "pygments_lexer": "ipython3",
   "version": "3.9.13"
  },
  "orig_nbformat": 4,
  "vscode": {
   "interpreter": {
    "hash": "f2104d434ce3092b7c07d5af98c90652611c7ad655b2a72b59e9e675e449bc7b"
   }
  }
 },
 "nbformat": 4,
 "nbformat_minor": 2
}
