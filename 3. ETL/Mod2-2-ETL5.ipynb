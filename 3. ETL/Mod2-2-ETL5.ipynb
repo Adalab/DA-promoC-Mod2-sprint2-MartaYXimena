{
 "cells": [
  {
   "attachments": {},
   "cell_type": "markdown",
   "metadata": {},
   "source": [
    "# Pair Programming ETL Carga I"
   ]
  },
  {
   "attachments": {},
   "cell_type": "markdown",
   "metadata": {},
   "source": [
    "Igual que en el ejercicio de pair programming de ETL Transformación II, tendréis que crear una clase que nos permita cargar los datos en SQL I.\n",
    "Happy coding 🦈"
   ]
  },
  {
   "cell_type": "code",
   "execution_count": 8,
   "metadata": {},
   "outputs": [],
   "source": [
    "import pandas as pd\n",
    "import mysql.connector"
   ]
  },
  {
   "cell_type": "code",
   "execution_count": 9,
   "metadata": {},
   "outputs": [],
   "source": [
    "class Cargar:\n",
    "    \n",
    "    def __init__(self, nombre_bbdd, contraseña):\n",
    "        # nuestra clase va a recibir dos parámetros que son fijos a lo largo de toda la BBDD, el nombre de la BBDD y la contraseña con el servidor. \n",
    "        self.nombre_bbdd = nombre_bbdd\n",
    "        self.contraseña = contraseña\n",
    "\n",
    "    # método para crear la BBDD \n",
    "    def crear_bbdd(self):\n",
    "\n",
    "        mydb = mysql.connector.connect(host=\"localhost\",\n",
    "                                       user=\"root\",\n",
    "                                       password=f'{self.contraseña}') \n",
    "        mycursor = mydb.cursor()\n",
    "        print(\"Conexión realizada con éxito\")\n",
    "\n",
    "        try:\n",
    "            mycursor.execute(f\"CREATE DATABASE IF NOT EXISTS {self.nombre_bbdd};\")\n",
    "            \n",
    "        except:\n",
    "            print(\"La BBDD ya existe\")\n",
    "    \n",
    "    # método para crear tablas  e insertar datos en ellas   \n",
    "    def crear_insertar_tabla(self, query):\n",
    "        \n",
    "        mydb = mysql.connector.connect(host=\"localhost\",\n",
    "                                       user=\"root\",\n",
    "                                       password=f'{self.contraseña}', \n",
    "                                       database=f\"{self.nombre_bbdd}\") \n",
    "        mycursor = mydb.cursor()\n",
    "        \n",
    "        try:\n",
    "            mycursor.execute(query)\n",
    "            mydb.commit()\n",
    "          \n",
    "        except mysql.connector.Error as err:\n",
    "            print(err)\n",
    "            print(\"Error Code:\", err.errno)\n",
    "            print(\"SQLSTATE\", err.sqlstate)\n",
    "            print(\"Message\", err.msg)\n",
    "\n",
    "    "
   ]
  },
  {
   "attachments": {},
   "cell_type": "markdown",
   "metadata": {},
   "source": [
    "Llamamos a la clase"
   ]
  },
  {
   "cell_type": "code",
   "execution_count": 10,
   "metadata": {},
   "outputs": [],
   "source": [
    "db_sql = Cargar(\"tiburones2\", \"AlumnaAdalab\")"
   ]
  },
  {
   "attachments": {},
   "cell_type": "markdown",
   "metadata": {},
   "source": [
    "Aplicamos el método crear_bbdd para crear la base de datos"
   ]
  },
  {
   "cell_type": "code",
   "execution_count": 11,
   "metadata": {},
   "outputs": [
    {
     "name": "stdout",
     "output_type": "stream",
     "text": [
      "Conexión realizada con éxito\n"
     ]
    }
   ],
   "source": [
    "mydb = db_sql.crear_bbdd()"
   ]
  },
  {
   "cell_type": "markdown",
   "metadata": {},
   "source": [
    "Aplicamos el método para crear las tablas. Con el método crear_insertar_tabla(self, query)"
   ]
  },
  {
   "cell_type": "code",
   "execution_count": 18,
   "metadata": {},
   "outputs": [],
   "source": [
    "# query crear tabla ataques\n",
    "tabla_ataques = '''\n",
    "CREATE TABLE IF NOT EXISTS `tiburones2`.`ataques` (\n",
    "  `case_number` VARCHAR(50) NOT NULL, \n",
    "  `year` INT NOT NULL , \n",
    "  `type` VARCHAR(50) NOT NULL, \n",
    "  `country` VARCHAR(50) NOT NULL, \n",
    "  `species_` VARCHAR(50),\n",
    "  `date` VARCHAR(50),\n",
    "  `mes` VARCHAR(50),\n",
    "  `fatal` VARCHAR(50),\n",
    "  `sexo` VARCHAR(50),\n",
    "  `especie_cat`VARCHAR(50),\n",
    "  `age` FLOAT (6),\n",
    "  \n",
    "  PRIMARY KEY (`case_number`))\n",
    "ENGINE = InnoDB;\n",
    "'''\n",
    "# El ENGINE, es el motor de almacenamiento, el encargado de almacenar y manejar la información de la tabla."
   ]
  },
  {
   "cell_type": "code",
   "execution_count": 19,
   "metadata": {},
   "outputs": [],
   "source": [
    "# query crear tabla clima\n",
    "\n",
    "tabla_clima = '''\n",
    "CREATE TABLE IF NOT EXISTS `tiburones2`.`clima`(\n",
    "  `timepoint` INT NOT NULL, \n",
    "  `cloudcover` INT NOT NULL, \n",
    "  `highcloud` INT NOT NULL,\n",
    "  `midcloud` INT NOT NULL, \n",
    "  `lowcloud` INT NOT NULL, \n",
    "  `rh_profile` VARCHAR (1000),\n",
    "  `wind_profile` VARCHAR (1000),\n",
    "  `temp2m` INT NOT NULL, \n",
    "  `lifted_index` INT NOT NULL, \n",
    "  `rh2m` INT NOT NULL,\n",
    "  `msl_pressure` INT NOT NULL, \n",
    "  `prec_type` VARCHAR (1000),\n",
    "  `prec_amount` INT (50) NOT NULL, \n",
    "  `snow_depth` INT (50) NOT NULL, \n",
    "  `wind10m.direction` INT NOT NULL,\n",
    "  `wind10m.speed` INT NOT NULL,\n",
    "  `pais` VARCHAR (50) NOT NULL,\n",
    "  `case_number` VARCHAR (50) NOT NULL,\n",
    "    \n",
    "  PRIMARY KEY ( `pais`),\n",
    "  INDEX `fk_clima_ataques_idx` (`pais` ASC),\n",
    "  CONSTRAINT `fk_clima_ataques`\n",
    "    FOREIGN KEY (`case_number`)\n",
    "    REFERENCES `tiburones2`.`ataques` (`case_number`))\n",
    "ENGINE = InnoDB;\n",
    "'''"
   ]
  },
  {
   "cell_type": "code",
   "execution_count": 20,
   "metadata": {},
   "outputs": [],
   "source": [
    "db_sql.crear_insertar_tabla(tabla_ataques)"
   ]
  },
  {
   "cell_type": "code",
   "execution_count": 21,
   "metadata": {},
   "outputs": [],
   "source": [
    "db_sql.crear_insertar_tabla(tabla_clima)"
   ]
  },
  {
   "attachments": {},
   "cell_type": "markdown",
   "metadata": {},
   "source": [
    "Inserción de datos con el método crear_insertar_tabla()"
   ]
  },
  {
   "cell_type": "code",
   "execution_count": null,
   "metadata": {},
   "outputs": [],
   "source": [
    "for indice, fila in df.iterrows(): \n",
    "    \n",
    "    query_tiempo = f\"\"\"\n",
    "            INSERT INTO tiempo (timepoint, fecha) # como la primary key la hemos puesto como autoincremental no hace falta introducirla en el insert\n",
    "            VALUES ( \"{fila[\"timepoint\"]}\", \"{fila['fecha']}\");\n",
    "            \"\"\"\n",
    "    carga.crear_insertar_tabla(query_tiempo)"
   ]
  },
  {
   "cell_type": "code",
   "execution_count": null,
   "metadata": {},
   "outputs": [],
   "source": [
    "query_ataques = f\"\"\"\n",
    "                INSERT INTO mediciones (cloudcover, lifted_index, prec_type, prec_amount, temp2m, rh2m, weather, wind_direction, wind_speed, seeing, transparency, idtiempo, idlocalidad) \n",
    "                VALUES ({fila[\"cloudcover\"]}, {fila['lifted_index']}, \"{fila['prec_type']}\", {fila['prec_amount']},{fila['temp2m']},{fila['rh2m']}, \"{fila['weather']}\",\"{fila['wind10m.direction']}\",{fila['wind10m.speed']}, {fila['seeing']}, {fila['transparency']}, {id_fecha}, {id_ciudad});\n",
    "                \"\"\""
   ]
  },
  {
   "attachments": {},
   "cell_type": "markdown",
   "metadata": {},
   "source": [
    "  `timepoint` INT NOT NULL, \n",
    "  `cloudcover` INT NOT NULL, \n",
    "  `highcloud` INT NOT NULL,\n",
    "  `midcloud` INT NOT NULL, \n",
    "  `lowcloud` INT NOT NULL, \n",
    "  `rh_profile` VARCHAR (1000),\n",
    "  `wind_profile` VARCHAR (1000),\n",
    "  `temp2m` INT NOT NULL, \n",
    "  `lifted_index` INT NOT NULL, \n",
    "  `rh2m` INT NOT NULL,\n",
    "  `msl_pressure` INT NOT NULL, \n",
    "  `prec_type` VARCHAR (1000),\n",
    "  `prec_amount` INT (50) NOT NULL, \n",
    "  `snow_depth` INT (50) NOT NULL, \n",
    "  `wind10m.direction` INT NOT NULL,\n",
    "  `wind10m.speed` INT NOT NULL,\n",
    "  `pais` VARCHAR (50) NOT NULL,\n",
    "  `case_number` VARCHAR (50) NOT NULL,"
   ]
  },
  {
   "cell_type": "code",
   "execution_count": null,
   "metadata": {},
   "outputs": [],
   "source": [
    "query_clima = f\"\"\"\n",
    "                INSERT INTO clima (timepoint, cloudcover, highcloud, midcloud, lowcloud, rh_profile,wind_profile, temp2m, lifted_index, rh2m,prec_type, prec_amount, temp2m,  weather, wind_direction, wind_speed, seeing, transparency, idtiempo, idlocalidad) \n",
    "                VALUES ({fila[\"timepoint\"]}, {fila[\"cloudcover\"]}, {fila[\"highcloud\"]},{fila[\"midcloud\"]}, {fila[\"lowcloud\"]}, {fila[\"rh_profile\"]} , {fila[\"wind_profile\"]}, {fila[\"temp2m\"]},{fila['lifted_index']}, {fila['rh2m']}, \"{fila['prec_type']}\", {fila['prec_amount']},{fila['temp2m']}, \"{fila['weather']}\",\"{fila['wind10m.direction']}\",{fila['wind10m.speed']}, {fila['seeing']}, {fila['transparency']}, {id_fecha}, {id_ciudad});\n",
    "                \"\"\""
   ]
  },
  {
   "cell_type": "code",
   "execution_count": null,
   "metadata": {},
   "outputs": [],
   "source": [
    " prec_amount, temp2m,  weather, , seeing, transparency, idtiempo, idlocalidad) "
   ]
  },
  {
   "cell_type": "code",
   "execution_count": null,
   "metadata": {},
   "outputs": [],
   "source": [
    "\"{fila['weather']}\", {fila['seeing']}, {fila['transparency']}, {id_fecha}, {id_ciudad})"
   ]
  },
  {
   "cell_type": "code",
   "execution_count": null,
   "metadata": {},
   "outputs": [],
   "source": [
    "query_clima = f\"\"\"\n",
    "                INSERT INTO clima (timepoint, cloudcover, highcloud, midcloud, lowcloud, rh_profile, wind_profile, temp2m, lifted_index, rh2m,prec_type, prec_amount, `snow_depth`, wind_direction, wind_speed\n",
    "                VALUES ({fila[\"timepoint\"]}, {fila[\"cloudcover\"]}, {fila[\"highcloud\"]},{fila[\"midcloud\"]}, {fila[\"lowcloud\"]}, {fila[\"rh_profile\"]} , {fila[\"wind_profile\"]}, {fila[\"temp2m\"]},{fila['lifted_index']}, {fila['rh2m']}, \"{fila['prec_type']}\", {fila['prec_amount']}, \"{fila['wind10m.direction']}\",{fila['wind10m.speed']});\n",
    "                \"\"\""
   ]
  },
  {
   "cell_type": "code",
   "execution_count": null,
   "metadata": {},
   "outputs": [],
   "source": [
    "\n",
    "  `wind10m.direction` INT NOT NULL,\n",
    "  `wind10m.speed` INT NOT NULL,\n",
    "  `pais` VARCHAR (50) NOT NULL,\n",
    "  `case_number` VARCHAR (50) NOT NULL,"
   ]
  },
  {
   "cell_type": "code",
   "execution_count": null,
   "metadata": {},
   "outputs": [],
   "source": [
    "  `msl_pressure` INT NOT NULL, \n",
    "  `prec_type` VARCHAR (1000),\n",
    "  `prec_amount` INT (50) NOT NULL, \n",
    "  `snow_depth` INT (50) NOT NULL, \n",
    "  `wind10m.direction` INT NOT NULL,\n",
    "  `wind10m.speed` INT NOT NULL,\n",
    "  `pais` VARCHAR (50) NOT NULL,\n",
    "  `case_number` VARCHAR (50) NOT NULL,"
   ]
  },
  {
   "cell_type": "code",
   "execution_count": 1,
   "metadata": {},
   "outputs": [],
   "source": [
    "# método para comprobar si la ciudad que estamos intentando meter ya existe en la BBDD. \n",
    "    # En caso de que ya exista no será necesario que la insertemos de nuevo\n",
    "def check_paises(self):\n",
    "\n",
    "    mydb = mysql.connector.connect(user='root',\n",
    "                                    password=f\"{self.contraseña}\",\n",
    "                                    host='127.0.0.1',\n",
    "                                    database=f\"{self.nombre_bbdd}\")\n",
    "    mycursor = mydb.cursor()\n",
    "\n",
    "    # query para extraer los valores únicos de ciudades de la tabla de localidades \n",
    "    query_existe_ciudad = f\"\"\"\n",
    "            SELECT DISTINCT country FROM ataques\n",
    "            \"\"\"\n",
    "    mycursor.execute(query_existe_ciudad)\n",
    "    ciudades = mycursor.fetchall()\n",
    "    return ciudades"
   ]
  },
  {
   "cell_type": "code",
   "execution_count": null,
   "metadata": {},
   "outputs": [],
   "source": []
  },
  {
   "attachments": {},
   "cell_type": "markdown",
   "metadata": {},
   "source": [
    "Otras funciones"
   ]
  },
  {
   "cell_type": "code",
   "execution_count": 2,
   "metadata": {},
   "outputs": [],
   "source": [
    "def sacar_id_ciudad(self, ciudad):\n",
    "        \n",
    "    mydb = mysql.connector.connect(user='root',\n",
    "                                    password= f'{self.contraseña}',\n",
    "                                    host='127.0.0.1', \n",
    "                                    database=f\"{self.nombre_bbdd}\")\n",
    "    mycursor = mydb.cursor()\n",
    "    \n",
    "    try:\n",
    "        query_sacar_id = f\"SELECT idlocalidad FROM localidades WHERE ciudad = '{ciudad}'\"\n",
    "        mycursor.execute(query_sacar_id)\n",
    "        id_ = mycursor.fetchall()[0][0]\n",
    "        return id_\n",
    "    \n",
    "    except: \n",
    "        return \"Sorry, no tenemos esa ciudad en la BBDD y por lo tanto no te podemos dar su id. \""
   ]
  },
  {
   "cell_type": "code",
   "execution_count": 3,
   "metadata": {},
   "outputs": [],
   "source": [
    "def sacar_id_fecha(self, timepoint, fecha):\n",
    "    mydb = mysql.connector.connect(user='root', password=f'{self.contraseña}',\n",
    "                                        host='127.0.0.1', database=f\"{self.nombre_bbdd}\")\n",
    "    mycursor = mydb.cursor()\n",
    "\n",
    "    try:\n",
    "        query_sacar_id = f\"SELECT idtiempo FROM tiempo WHERE timepoint = {timepoint} and fecha = '{fecha}'\"\n",
    "        mycursor.execute(query_sacar_id)\n",
    "        id_ = mycursor.fetchall()[0][0]\n",
    "        return id_\n",
    "    \n",
    "    except: \n",
    "            return \"Sorry, no tenemos esa fecha en la BBDD y por lo tanto no te podemos dar su id. \""
   ]
  }
 ],
 "metadata": {
  "kernelspec": {
   "display_name": "base",
   "language": "python",
   "name": "python3"
  },
  "language_info": {
   "codemirror_mode": {
    "name": "ipython",
    "version": 3
   },
   "file_extension": ".py",
   "mimetype": "text/x-python",
   "name": "python",
   "nbconvert_exporter": "python",
   "pygments_lexer": "ipython3",
   "version": "3.9.13"
  },
  "orig_nbformat": 4,
  "vscode": {
   "interpreter": {
    "hash": "f2104d434ce3092b7c07d5af98c90652611c7ad655b2a72b59e9e675e449bc7b"
   }
  }
 },
 "nbformat": 4,
 "nbformat_minor": 2
}
