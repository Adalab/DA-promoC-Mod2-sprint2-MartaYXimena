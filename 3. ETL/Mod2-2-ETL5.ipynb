{
 "cells": [
  {
   "attachments": {},
   "cell_type": "markdown",
   "metadata": {},
   "source": [
    "# Pair Programming ETL Carga I"
   ]
  },
  {
   "attachments": {},
   "cell_type": "markdown",
   "metadata": {},
   "source": [
    "Igual que en el ejercicio de pair programming de ETL Transformación II, tendréis que crear una clase que nos permita cargar los datos en SQL I.\n",
    "Happy coding 🦈"
   ]
  },
  {
   "cell_type": "code",
   "execution_count": 130,
   "metadata": {},
   "outputs": [],
   "source": [
    "import pandas as pd\n",
    "import mysql.connector"
   ]
  },
  {
   "cell_type": "code",
   "execution_count": 131,
   "metadata": {},
   "outputs": [
    {
     "data": {
      "text/html": [
       "<div>\n",
       "<style scoped>\n",
       "    .dataframe tbody tr th:only-of-type {\n",
       "        vertical-align: middle;\n",
       "    }\n",
       "\n",
       "    .dataframe tbody tr th {\n",
       "        vertical-align: top;\n",
       "    }\n",
       "\n",
       "    .dataframe thead th {\n",
       "        text-align: right;\n",
       "    }\n",
       "</style>\n",
       "<table border=\"1\" class=\"dataframe\">\n",
       "  <thead>\n",
       "    <tr style=\"text-align: right;\">\n",
       "      <th></th>\n",
       "      <th>case_number</th>\n",
       "      <th>year</th>\n",
       "      <th>type</th>\n",
       "      <th>country</th>\n",
       "      <th>date</th>\n",
       "      <th>mes</th>\n",
       "      <th>fatal</th>\n",
       "      <th>sexo</th>\n",
       "      <th>especie_cat</th>\n",
       "      <th>age</th>\n",
       "    </tr>\n",
       "  </thead>\n",
       "  <tbody>\n",
       "    <tr>\n",
       "      <th>0</th>\n",
       "      <td>2018.06.25</td>\n",
       "      <td>2018</td>\n",
       "      <td>Boating</td>\n",
       "      <td>usa</td>\n",
       "      <td>25-Jun-2018</td>\n",
       "      <td>Jun</td>\n",
       "      <td>n</td>\n",
       "      <td>F</td>\n",
       "      <td>White</td>\n",
       "      <td>57.0</td>\n",
       "    </tr>\n",
       "  </tbody>\n",
       "</table>\n",
       "</div>"
      ],
      "text/plain": [
       "  case_number  year     type country         date  mes fatal sexo especie_cat  \\\n",
       "0  2018.06.25  2018  Boating     usa  25-Jun-2018  Jun     n    F       White   \n",
       "\n",
       "    age  \n",
       "0  57.0  "
      ]
     },
     "execution_count": 131,
     "metadata": {},
     "output_type": "execute_result"
    }
   ],
   "source": [
    "df_ataques = pd.read_csv(\"datos/4.ataques_limpio.csv\", index_col=0)\n",
    "df_ataques.head(1)"
   ]
  },
  {
   "cell_type": "code",
   "execution_count": 132,
   "metadata": {},
   "outputs": [
    {
     "data": {
      "text/html": [
       "<div>\n",
       "<style scoped>\n",
       "    .dataframe tbody tr th:only-of-type {\n",
       "        vertical-align: middle;\n",
       "    }\n",
       "\n",
       "    .dataframe tbody tr th {\n",
       "        vertical-align: top;\n",
       "    }\n",
       "\n",
       "    .dataframe thead th {\n",
       "        text-align: right;\n",
       "    }\n",
       "</style>\n",
       "<table border=\"1\" class=\"dataframe\">\n",
       "  <thead>\n",
       "    <tr style=\"text-align: right;\">\n",
       "      <th></th>\n",
       "      <th>timepoint</th>\n",
       "      <th>cloudcover</th>\n",
       "      <th>highcloud</th>\n",
       "      <th>midcloud</th>\n",
       "      <th>lowcloud</th>\n",
       "      <th>rh_profile</th>\n",
       "      <th>wind_profile</th>\n",
       "      <th>temp2m</th>\n",
       "      <th>lifted_index</th>\n",
       "      <th>rh2m</th>\n",
       "      <th>msl_pressure</th>\n",
       "      <th>prec_type</th>\n",
       "      <th>prec_amount</th>\n",
       "      <th>snow_depth</th>\n",
       "      <th>wind10m.direction</th>\n",
       "      <th>wind10m.speed</th>\n",
       "      <th>pais</th>\n",
       "    </tr>\n",
       "  </thead>\n",
       "  <tbody>\n",
       "    <tr>\n",
       "      <th>0</th>\n",
       "      <td>3</td>\n",
       "      <td>8</td>\n",
       "      <td>-9999</td>\n",
       "      <td>-9999</td>\n",
       "      <td>-9999</td>\n",
       "      <td>[{'layer': '950mb', 'rh': 15}, {'layer': '900m...</td>\n",
       "      <td>[{'layer': '950mb', 'direction': 85, 'speed': ...</td>\n",
       "      <td>25</td>\n",
       "      <td>-1</td>\n",
       "      <td>12</td>\n",
       "      <td>1010</td>\n",
       "      <td>none</td>\n",
       "      <td>1</td>\n",
       "      <td>0</td>\n",
       "      <td>105</td>\n",
       "      <td>3</td>\n",
       "      <td>Papua New Guinea</td>\n",
       "    </tr>\n",
       "  </tbody>\n",
       "</table>\n",
       "</div>"
      ],
      "text/plain": [
       "   timepoint  cloudcover  highcloud  midcloud  lowcloud  \\\n",
       "0          3           8      -9999     -9999     -9999   \n",
       "\n",
       "                                          rh_profile  \\\n",
       "0  [{'layer': '950mb', 'rh': 15}, {'layer': '900m...   \n",
       "\n",
       "                                        wind_profile  temp2m  lifted_index  \\\n",
       "0  [{'layer': '950mb', 'direction': 85, 'speed': ...      25            -1   \n",
       "\n",
       "   rh2m  msl_pressure prec_type  prec_amount  snow_depth  wind10m.direction  \\\n",
       "0    12          1010      none            1           0                105   \n",
       "\n",
       "   wind10m.speed              pais  \n",
       "0              3  Papua New Guinea  "
      ]
     },
     "execution_count": 132,
     "metadata": {},
     "output_type": "execute_result"
    }
   ],
   "source": [
    "df_clima= pd.read_csv(\"files/1.paises_meteo_info.csv\", index_col=0)\n",
    "df_clima.head(1)"
   ]
  },
  {
   "cell_type": "code",
   "execution_count": 133,
   "metadata": {},
   "outputs": [],
   "source": [
    "class Cargar:\n",
    "    \n",
    "    def __init__(self, nombre_bbdd, contraseña):\n",
    "        # nuestra clase va a recibir dos parámetros que son fijos a lo largo de toda la BBDD, el nombre de la BBDD y la contraseña con el servidor. \n",
    "        self.nombre_bbdd = nombre_bbdd\n",
    "        self.contraseña = contraseña\n",
    "\n",
    "    # método para crear la BBDD \n",
    "    def crear_bbdd(self):\n",
    "\n",
    "        mydb = mysql.connector.connect(host=\"localhost\",\n",
    "                                       user=\"root\",\n",
    "                                       password=f'{self.contraseña}') \n",
    "        mycursor = mydb.cursor()\n",
    "        print(\"Conexión realizada con éxito\")\n",
    "        print(\"La base de datos se ha creado correctamente\")\n",
    "\n",
    "        try:\n",
    "            mycursor.execute(f\"CREATE DATABASE IF NOT EXISTS {self.nombre_bbdd};\")\n",
    "            \n",
    "        except:\n",
    "            print(\"La BBDD ya existe\")\n",
    "    \n",
    "    # método para crear tablas  e insertar datos en ellas   \n",
    "    def crear_insertar_tabla(self, query):\n",
    "        \n",
    "        mydb = mysql.connector.connect(host=\"localhost\",\n",
    "                                       user=\"root\",\n",
    "                                       password=f'{self.contraseña}', \n",
    "                                       database=f\"{self.nombre_bbdd}\") \n",
    "        mycursor = mydb.cursor()\n",
    "        \n",
    "        try:\n",
    "            mycursor.execute(query)\n",
    "            mydb.commit()\n",
    "          \n",
    "        except mysql.connector.Error as err:\n",
    "            print(err)\n",
    "            print(\"Error Code:\", err.errno)\n",
    "            print(\"SQLSTATE\", err.sqlstate)\n",
    "            print(\"Message\", err.msg)\n",
    "  "
   ]
  },
  {
   "attachments": {},
   "cell_type": "markdown",
   "metadata": {},
   "source": [
    "Llamamos a la clase"
   ]
  },
  {
   "cell_type": "code",
   "execution_count": 134,
   "metadata": {},
   "outputs": [],
   "source": [
    "db_sql = Cargar(\"tiburones2\", \"AlumnaAdalab\")"
   ]
  },
  {
   "attachments": {},
   "cell_type": "markdown",
   "metadata": {},
   "source": [
    "Aplicamos el método crear_bbdd para crear la base de datos"
   ]
  },
  {
   "cell_type": "code",
   "execution_count": 135,
   "metadata": {},
   "outputs": [
    {
     "name": "stdout",
     "output_type": "stream",
     "text": [
      "Conexión realizada con éxito\n",
      "La base de datos se ha creado correctamente\n"
     ]
    }
   ],
   "source": [
    "mydb = db_sql.crear_bbdd()"
   ]
  },
  {
   "attachments": {},
   "cell_type": "markdown",
   "metadata": {},
   "source": [
    "Aplicamos el método para crear las tablas. Con el método crear_tabla(query)"
   ]
  },
  {
   "cell_type": "code",
   "execution_count": 136,
   "metadata": {},
   "outputs": [],
   "source": [
    "# query crear tabla ataques\n",
    "tabla_ataques = '''\n",
    "CREATE TABLE IF NOT EXISTS `tiburones2`.`ataques` (\n",
    "  `id` INT NOT NULL AUTO_INCREMENT,\n",
    "  `case_number` VARCHAR(2000) DEFAULT NULL, \n",
    "  `year` INT DEFAULT NULL , \n",
    "  `type` VARCHAR(2000) DEFAULT NULL, \n",
    "  `country` VARCHAR(2000) DEFAULT NULL, \n",
    "  `date` VARCHAR(2000) DEFAULT NULL,\n",
    "  `mes` VARCHAR(2000) DEFAULT NULL,\n",
    "  `fatal` VARCHAR(2000) DEFAULT NULL,\n",
    "  `sexo` VARCHAR(2000) DEFAULT NULL,\n",
    "  `especie_cat`VARCHAR(50) DEFAULT NULL,\n",
    "  `age` FLOAT (6),\n",
    "  \n",
    "  PRIMARY KEY (`id`))\n",
    "ENGINE = InnoDB;\n",
    "'''\n",
    "# El ENGINE, es el motor de almacenamiento, el encargado de almacenar y manejar la información de la tabla."
   ]
  },
  {
   "cell_type": "code",
   "execution_count": 137,
   "metadata": {},
   "outputs": [],
   "source": [
    "# query crear tabla clima\n",
    "\n",
    "tabla_clima = '''\n",
    "CREATE TABLE IF NOT EXISTS `tiburones2`.`clima`(\n",
    "  `id` INT NOT NULL AUTO_INCREMENT,\n",
    "  `timepoint` INT NOT NULL, \n",
    "  `cloudcover` INT NOT NULL, \n",
    "  `highcloud` INT NOT NULL,\n",
    "  `midcloud` INT NOT NULL, \n",
    "  `lowcloud` INT NOT NULL, \n",
    "  `temp2m` INT NOT NULL, \n",
    "  `lifted_index` INT NOT NULL, \n",
    "  `rh2m` INT NOT NULL,\n",
    "  `msl_pressure` INT NOT NULL, \n",
    "  `prec_amount` INT (50) NOT NULL, \n",
    "  `snow_depth` INT (50) NOT NULL, \n",
    "  `wind10m.direction` INT NOT NULL,\n",
    "  `wind10m.speed` INT NOT NULL,\n",
    "  `pais` VARCHAR (50) NOT NULL,\n",
    "    \n",
    "  PRIMARY KEY ( `id`),\n",
    "\n",
    "  CONSTRAINT `fk_clima_ataques`\n",
    "    FOREIGN KEY (`id`)\n",
    "    REFERENCES `ataques` (`id`))\n",
    "ENGINE = InnoDB;\n",
    "'''"
   ]
  },
  {
   "cell_type": "code",
   "execution_count": 138,
   "metadata": {},
   "outputs": [],
   "source": [
    "db_sql.crear_insertar_tabla(tabla_ataques)"
   ]
  },
  {
   "cell_type": "code",
   "execution_count": 139,
   "metadata": {},
   "outputs": [],
   "source": [
    "db_sql.crear_insertar_tabla(tabla_clima)"
   ]
  },
  {
   "cell_type": "code",
   "execution_count": 140,
   "metadata": {},
   "outputs": [
    {
     "name": "stdout",
     "output_type": "stream",
     "text": [
      "1064 (42000): You have an error in your SQL syntax; check the manual that corresponds to your MySQL server version for the right syntax to use near 'During the war\" 1943-1945\", \"During\",\"n\", \"M\",\"nan\", \"28.0\")' at line 2\n",
      "Error Code: 1064\n",
      "SQLSTATE 42000\n",
      "Message You have an error in your SQL syntax; check the manual that corresponds to your MySQL server version for the right syntax to use near 'During the war\" 1943-1945\", \"During\",\"n\", \"M\",\"nan\", \"28.0\")' at line 2\n",
      "1064 (42000): You have an error in your SQL syntax; check the manual that corresponds to your MySQL server version for the right syntax to use near 'Before the war\"\", \"Before\",\"n\", \"M\",\"nan\", \"28.0\")' at line 2\n",
      "Error Code: 1064\n",
      "SQLSTATE 42000\n",
      "Message You have an error in your SQL syntax; check the manual that corresponds to your MySQL server version for the right syntax to use near 'Before the war\"\", \"Before\",\"n\", \"M\",\"nan\", \"28.0\")' at line 2\n"
     ]
    }
   ],
   "source": [
    "for indice, fila in df_ataques.iterrows():\n",
    "    try:\n",
    "        query_ataques = f\"\"\" INSERT INTO ataques (`case_number`, `year`, `type`, `country`, `date`, `mes`, `fatal`, `sexo`, `especie_cat`, `age`)\n",
    "                                VALUES (\"{fila['case_number']}\", \"{fila['year']}\", \"{fila['type']}\", \"{fila['country']}\", \"{fila['date']}\", \"{fila['mes']}\",\"{fila['fatal']}\", \"{fila['sexo']}\",\"{fila['especie_cat']}\", \"{fila['age']}\");\n",
    "                                \"\"\"\n",
    "        # Llamamos a la función dentro del for, ya que si no, no itera por todos los valores y sólo nos inserta la primera línea.\n",
    "        db_sql.crear_insertar_tabla(query_ataques)\n",
    "    \n",
    "    except:\n",
    "        pass"
   ]
  },
  {
   "cell_type": "code",
   "execution_count": 141,
   "metadata": {},
   "outputs": [],
   "source": [
    "for indice, fila in df_clima.iterrows():\n",
    "    query_clima = f\"\"\" INSERT INTO `clima`( `timepoint`, `cloudcover`, `highcloud`, `midcloud`, `lowcloud`, `temp2m`, `lifted_index`, `rh2m`, `msl_pressure`, `prec_amount`, `snow_depth`, `wind10m.direction`, `wind10m.speed`, `pais`)\n",
    "                        VALUES ('{fila[\"timepoint\"]}', '{fila[\"cloudcover\"]}', '{fila[\"highcloud\"]}', '{fila[\"midcloud\"]}', '{fila[\"lowcloud\"]}', '{fila[\"temp2m\"]}', '{fila[\"lifted_index\"]}', '{fila[\"rh2m\"]}', '{fila[\"msl_pressure\"]}', '{fila[\"prec_amount\"]}', '{fila[\"snow_depth\"]}', '{fila[\"wind10m.direction\"]}', '{fila[\"wind10m.speed\"]}', '{fila[\"pais\"]}');\n",
    "                    \"\"\"\n",
    "    # Llamamos a la función dentro del for, ya que si no, no itera por todos los valores y sólo nos inserta la primera línea.\n",
    "    db_sql.crear_insertar_tabla(query_clima)"
   ]
  }
 ],
 "metadata": {
  "kernelspec": {
   "display_name": "base",
   "language": "python",
   "name": "python3"
  },
  "language_info": {
   "codemirror_mode": {
    "name": "ipython",
    "version": 3
   },
   "file_extension": ".py",
   "mimetype": "text/x-python",
   "name": "python",
   "nbconvert_exporter": "python",
   "pygments_lexer": "ipython3",
   "version": "3.9.13"
  },
  "orig_nbformat": 4,
  "vscode": {
   "interpreter": {
    "hash": "f2104d434ce3092b7c07d5af98c90652611c7ad655b2a72b59e9e675e449bc7b"
   }
  }
 },
 "nbformat": 4,
 "nbformat_minor": 2
}
