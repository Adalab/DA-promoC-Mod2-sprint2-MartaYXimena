{
 "cells": [
  {
   "attachments": {},
   "cell_type": "markdown",
   "metadata": {},
   "source": [
    "# Pair Programming ETL Carga I"
   ]
  },
  {
   "attachments": {},
   "cell_type": "markdown",
   "metadata": {},
   "source": [
    "Es el momento de meter todos nuestros datos en SQL 💪🏽!!! En este ejercicio nos crearemos dos tablas en una BBDD creada por nosotras. Una de las tablas contendrá la información que obtuvimos de los ejercicios de pair programming de Limpieza, es decir, el data set de ataques de tiburones limpito. La segunda tabla tendrá la información obtenida en el ejercicio de pair de ETL 1."
   ]
  },
  {
   "cell_type": "code",
   "execution_count": 24,
   "metadata": {},
   "outputs": [],
   "source": [
    "import pandas as pd\n",
    "import mysql.connector"
   ]
  },
  {
   "attachments": {},
   "cell_type": "markdown",
   "metadata": {},
   "source": [
    "## 1. Cread la BBDD con el nombre de tiburones."
   ]
  },
  {
   "cell_type": "code",
   "execution_count": 25,
   "metadata": {},
   "outputs": [],
   "source": [
    "def crear_bbdd(nombre_database):\n",
    "    mydb = mysql.connector.connect(\n",
    "        host = \"localhost\", \n",
    "        user = \"root\",\n",
    "        password = \"AlumnaAdalab\"\n",
    "    )\n",
    "\n",
    "    print(\"Conexión realizada con éxito\") #Obtendremos este print para saber que la conexión con el servidor ha sido \n",
    "                                           #creada con éxito\n",
    "\n",
    "    mycursor = mydb.cursor()\n",
    "\n",
    "    try:\n",
    "        mycursor.execute(f\"CREATE DATABASE IF NOT EXISTS {nombre_database};\")\n",
    "        print(mycursor)\n",
    "    except mysql.connector.Error as err:\n",
    "        print(err)\n",
    "        print(\"Error Code:\", err.errno)\n",
    "        print(\"SQLSTATE\", err.sqlstate)\n",
    "        print(\"Message\", err.msg)\n",
    "            \n"
   ]
  },
  {
   "cell_type": "code",
   "execution_count": 26,
   "metadata": {},
   "outputs": [
    {
     "name": "stdout",
     "output_type": "stream",
     "text": [
      "Conexión realizada con éxito\n",
      "CMySQLCursor: CREATE DATABASE IF NOT EXISTS tiburones;\n"
     ]
    }
   ],
   "source": [
    "#Ahora vamos a llamar a la función anterior para que cree la base de datos:\n",
    "mydb = crear_bbdd(\"tiburones\")"
   ]
  },
  {
   "attachments": {},
   "cell_type": "markdown",
   "metadata": {},
   "source": [
    "### 2.Cread las tablas de la BBDD:"
   ]
  },
  {
   "attachments": {},
   "cell_type": "markdown",
   "metadata": {},
   "source": [
    "* Tabla ataques"
   ]
  },
  {
   "cell_type": "code",
   "execution_count": 27,
   "metadata": {},
   "outputs": [],
   "source": [
    "def crear_insertar_tabla(nombre_bbdd, contraseña, query):\n",
    "    \n",
    "    # conectamos con el servidor:\n",
    "    cnx = mysql.connector.connect(user='root', password=f\"{contraseña}\",\n",
    "                                     host='127.0.0.1', database=f\"{nombre_bbdd}\")\n",
    "    \n",
    "    mycursor = cnx.cursor() #para iniciar el cursor que nos permitirá comunicarnos con la base de datos, en él se\n",
    "                            # almacenarán los resultados.\n",
    "    \n",
    "    # pasamos la consulta que queremos realizar (query) al método execute() del cursor \n",
    "    try: \n",
    "        mycursor.execute(query)\n",
    "        cnx.commit() \n",
    "    # en caso de que no se pueda ejecutar la query nos devolverá un error \n",
    "    except mysql.connector.Error as err:\n",
    "        print(err)\n",
    "        print(\"Error Code:\", err.errno)\n",
    "        print(\"SQLSTATE\", err.sqlstate)\n",
    "        print(\"Message\", err.msg)\n"
   ]
  },
  {
   "attachments": {},
   "cell_type": "markdown",
   "metadata": {},
   "source": [
    "Ahora vamos a definir las queries que van a conformar las tablas:"
   ]
  },
  {
   "cell_type": "code",
   "execution_count": 36,
   "metadata": {},
   "outputs": [
    {
     "data": {
      "text/html": [
       "<div>\n",
       "<style scoped>\n",
       "    .dataframe tbody tr th:only-of-type {\n",
       "        vertical-align: middle;\n",
       "    }\n",
       "\n",
       "    .dataframe tbody tr th {\n",
       "        vertical-align: top;\n",
       "    }\n",
       "\n",
       "    .dataframe thead th {\n",
       "        text-align: right;\n",
       "    }\n",
       "</style>\n",
       "<table border=\"1\" class=\"dataframe\">\n",
       "  <thead>\n",
       "    <tr style=\"text-align: right;\">\n",
       "      <th></th>\n",
       "      <th>case_number</th>\n",
       "      <th>year</th>\n",
       "      <th>type</th>\n",
       "      <th>country</th>\n",
       "      <th>species_</th>\n",
       "      <th>date</th>\n",
       "      <th>mes</th>\n",
       "      <th>fatal</th>\n",
       "      <th>sexo</th>\n",
       "      <th>especie_cat</th>\n",
       "      <th>age</th>\n",
       "    </tr>\n",
       "  </thead>\n",
       "  <tbody>\n",
       "    <tr>\n",
       "      <th>0</th>\n",
       "      <td>2018.06.25</td>\n",
       "      <td>2018</td>\n",
       "      <td>Boating</td>\n",
       "      <td>usa</td>\n",
       "      <td>White shark</td>\n",
       "      <td>25-Jun-2018</td>\n",
       "      <td>Jun</td>\n",
       "      <td>n</td>\n",
       "      <td>F</td>\n",
       "      <td>White</td>\n",
       "      <td>57.0</td>\n",
       "    </tr>\n",
       "  </tbody>\n",
       "</table>\n",
       "</div>"
      ],
      "text/plain": [
       "  case_number  year     type country     species_         date  mes fatal  \\\n",
       "0  2018.06.25  2018  Boating     usa  White shark  25-Jun-2018  Jun     n   \n",
       "\n",
       "  sexo especie_cat   age  \n",
       "0    F       White  57.0  "
      ]
     },
     "execution_count": 36,
     "metadata": {},
     "output_type": "execute_result"
    }
   ],
   "source": [
    "df_ataques = pd.read_csv(\"datos/4.ataques_limpio.csv\", index_col=0)\n",
    "df_ataques.head(1)"
   ]
  },
  {
   "cell_type": "code",
   "execution_count": 37,
   "metadata": {},
   "outputs": [
    {
     "data": {
      "text/plain": [
       "Index(['case_number', 'year', 'type', 'country', 'species_', 'date', 'mes',\n",
       "       'fatal', 'sexo', 'especie_cat', 'age'],\n",
       "      dtype='object')"
      ]
     },
     "execution_count": 37,
     "metadata": {},
     "output_type": "execute_result"
    }
   ],
   "source": [
    "df_ataques.columns"
   ]
  },
  {
   "cell_type": "code",
   "execution_count": 38,
   "metadata": {},
   "outputs": [
    {
     "data": {
      "text/plain": [
       "case_number     object\n",
       "year             int64\n",
       "type            object\n",
       "country         object\n",
       "species_        object\n",
       "date            object\n",
       "mes             object\n",
       "fatal           object\n",
       "sexo            object\n",
       "especie_cat     object\n",
       "age            float64\n",
       "dtype: object"
      ]
     },
     "execution_count": 38,
     "metadata": {},
     "output_type": "execute_result"
    }
   ],
   "source": [
    "df_ataques.dtypes"
   ]
  },
  {
   "cell_type": "code",
   "execution_count": 39,
   "metadata": {},
   "outputs": [
    {
     "data": {
      "text/plain": [
       "case_number      0\n",
       "year             0\n",
       "type             0\n",
       "country          0\n",
       "species_       126\n",
       "date             0\n",
       "mes             50\n",
       "fatal            0\n",
       "sexo            14\n",
       "especie_cat    126\n",
       "age              0\n",
       "dtype: int64"
      ]
     },
     "execution_count": 39,
     "metadata": {},
     "output_type": "execute_result"
    }
   ],
   "source": [
    "df_ataques.isnull().sum()"
   ]
  },
  {
   "cell_type": "code",
   "execution_count": 40,
   "metadata": {},
   "outputs": [
    {
     "data": {
      "text/html": [
       "<div>\n",
       "<style scoped>\n",
       "    .dataframe tbody tr th:only-of-type {\n",
       "        vertical-align: middle;\n",
       "    }\n",
       "\n",
       "    .dataframe tbody tr th {\n",
       "        vertical-align: top;\n",
       "    }\n",
       "\n",
       "    .dataframe thead th {\n",
       "        text-align: right;\n",
       "    }\n",
       "</style>\n",
       "<table border=\"1\" class=\"dataframe\">\n",
       "  <thead>\n",
       "    <tr style=\"text-align: right;\">\n",
       "      <th></th>\n",
       "      <th>timepoint</th>\n",
       "      <th>cloudcover</th>\n",
       "      <th>highcloud</th>\n",
       "      <th>midcloud</th>\n",
       "      <th>lowcloud</th>\n",
       "      <th>rh_profile</th>\n",
       "      <th>wind_profile</th>\n",
       "      <th>temp2m</th>\n",
       "      <th>lifted_index</th>\n",
       "      <th>rh2m</th>\n",
       "      <th>msl_pressure</th>\n",
       "      <th>prec_type</th>\n",
       "      <th>prec_amount</th>\n",
       "      <th>snow_depth</th>\n",
       "      <th>wind10m.direction</th>\n",
       "      <th>wind10m.speed</th>\n",
       "      <th>pais</th>\n",
       "    </tr>\n",
       "  </thead>\n",
       "  <tbody>\n",
       "    <tr>\n",
       "      <th>0</th>\n",
       "      <td>3</td>\n",
       "      <td>1</td>\n",
       "      <td>-9999</td>\n",
       "      <td>-9999</td>\n",
       "      <td>-9999</td>\n",
       "      <td>[{'layer': '950mb', 'rh': 14}, {'layer': '900m...</td>\n",
       "      <td>[{'layer': '950mb', 'direction': 100, 'speed':...</td>\n",
       "      <td>25</td>\n",
       "      <td>2</td>\n",
       "      <td>11</td>\n",
       "      <td>1011</td>\n",
       "      <td>none</td>\n",
       "      <td>0</td>\n",
       "      <td>0</td>\n",
       "      <td>115</td>\n",
       "      <td>3</td>\n",
       "      <td>Papua New Guinea</td>\n",
       "    </tr>\n",
       "  </tbody>\n",
       "</table>\n",
       "</div>"
      ],
      "text/plain": [
       "   timepoint  cloudcover  highcloud  midcloud  lowcloud  \\\n",
       "0          3           1      -9999     -9999     -9999   \n",
       "\n",
       "                                          rh_profile  \\\n",
       "0  [{'layer': '950mb', 'rh': 14}, {'layer': '900m...   \n",
       "\n",
       "                                        wind_profile  temp2m  lifted_index  \\\n",
       "0  [{'layer': '950mb', 'direction': 100, 'speed':...      25             2   \n",
       "\n",
       "   rh2m  msl_pressure prec_type  prec_amount  snow_depth  wind10m.direction  \\\n",
       "0    11          1011      none            0           0                115   \n",
       "\n",
       "   wind10m.speed              pais  \n",
       "0              3  Papua New Guinea  "
      ]
     },
     "execution_count": 40,
     "metadata": {},
     "output_type": "execute_result"
    }
   ],
   "source": [
    "# Revisamos las columnas que componen a nuestro df\n",
    "df_meteo = pd.read_csv(\"files/1.paises_meteo_info.csv\", index_col=0)\n",
    "df_meteo.head(1)"
   ]
  },
  {
   "cell_type": "code",
   "execution_count": 41,
   "metadata": {},
   "outputs": [
    {
     "data": {
      "text/plain": [
       "Index(['timepoint', 'cloudcover', 'highcloud', 'midcloud', 'lowcloud',\n",
       "       'rh_profile', 'wind_profile', 'temp2m', 'lifted_index', 'rh2m',\n",
       "       'msl_pressure', 'prec_type', 'prec_amount', 'snow_depth',\n",
       "       'wind10m.direction', 'wind10m.speed', 'pais'],\n",
       "      dtype='object')"
      ]
     },
     "execution_count": 41,
     "metadata": {},
     "output_type": "execute_result"
    }
   ],
   "source": [
    "df_meteo.columns"
   ]
  },
  {
   "cell_type": "code",
   "execution_count": 42,
   "metadata": {},
   "outputs": [
    {
     "data": {
      "text/plain": [
       "timepoint            0\n",
       "cloudcover           0\n",
       "highcloud            0\n",
       "midcloud             0\n",
       "lowcloud             0\n",
       "rh_profile           0\n",
       "wind_profile         0\n",
       "temp2m               0\n",
       "lifted_index         0\n",
       "rh2m                 0\n",
       "msl_pressure         0\n",
       "prec_type            0\n",
       "prec_amount          0\n",
       "snow_depth           0\n",
       "wind10m.direction    0\n",
       "wind10m.speed        0\n",
       "pais                 0\n",
       "dtype: int64"
      ]
     },
     "execution_count": 42,
     "metadata": {},
     "output_type": "execute_result"
    }
   ],
   "source": [
    "df_meteo.isnull().sum()"
   ]
  },
  {
   "cell_type": "code",
   "execution_count": 43,
   "metadata": {},
   "outputs": [
    {
     "data": {
      "text/plain": [
       "timepoint             int64\n",
       "cloudcover            int64\n",
       "highcloud             int64\n",
       "midcloud              int64\n",
       "lowcloud              int64\n",
       "rh_profile           object\n",
       "wind_profile         object\n",
       "temp2m                int64\n",
       "lifted_index          int64\n",
       "rh2m                  int64\n",
       "msl_pressure          int64\n",
       "prec_type            object\n",
       "prec_amount           int64\n",
       "snow_depth            int64\n",
       "wind10m.direction     int64\n",
       "wind10m.speed         int64\n",
       "pais                 object\n",
       "dtype: object"
      ]
     },
     "execution_count": 43,
     "metadata": {},
     "output_type": "execute_result"
    }
   ],
   "source": [
    "# Identificamos los tipos de datos de las columnas\n",
    "df_meteo.dtypes"
   ]
  },
  {
   "attachments": {},
   "cell_type": "markdown",
   "metadata": {},
   "source": [
    "## Creamos las querys"
   ]
  },
  {
   "cell_type": "code",
   "execution_count": 44,
   "metadata": {},
   "outputs": [
    {
     "data": {
      "text/plain": [
       "Index(['case_number', 'year', 'type', 'country', 'species_', 'date', 'mes',\n",
       "       'fatal', 'sexo', 'especie_cat', 'age'],\n",
       "      dtype='object')"
      ]
     },
     "execution_count": 44,
     "metadata": {},
     "output_type": "execute_result"
    }
   ],
   "source": [
    "df_ataques.columns"
   ]
  },
  {
   "cell_type": "code",
   "execution_count": 45,
   "metadata": {},
   "outputs": [
    {
     "name": "stdout",
     "output_type": "stream",
     "text": [
      "case_number     object\n",
      "year             int64\n",
      "type            object\n",
      "country         object\n",
      "species_        object\n",
      "date            object\n",
      "mes             object\n",
      "fatal           object\n",
      "sexo            object\n",
      "especie_cat     object\n",
      "age            float64\n",
      "dtype: object\n"
     ]
    }
   ],
   "source": [
    "print(df_ataques.dtypes)"
   ]
  },
  {
   "cell_type": "code",
   "execution_count": 46,
   "metadata": {},
   "outputs": [
    {
     "data": {
      "text/plain": [
       "case_number      0\n",
       "year             0\n",
       "type             0\n",
       "country          0\n",
       "species_       126\n",
       "date             0\n",
       "mes             50\n",
       "fatal            0\n",
       "sexo            14\n",
       "especie_cat    126\n",
       "age              0\n",
       "dtype: int64"
      ]
     },
     "execution_count": 46,
     "metadata": {},
     "output_type": "execute_result"
    }
   ],
   "source": [
    "df_ataques.isnull().sum()"
   ]
  },
  {
   "cell_type": "code",
   "execution_count": 74,
   "metadata": {},
   "outputs": [],
   "source": [
    "tabla_ataques = '''\n",
    "CREATE TABLE IF NOT EXISTS `tiburones`.`ataques` (\n",
    "  `case_number` VARCHAR(50) NOT NULL, \n",
    "  `year` INT NOT NULL , \n",
    "  `type` VARCHAR(50) NOT NULL, \n",
    "  `country` VARCHAR(50) NOT NULL, \n",
    "  `species_` VARCHAR(50),\n",
    "  `date` VARCHAR(50),\n",
    "  `mes` VARCHAR(50),\n",
    "  `fatal` VARCHAR(50),\n",
    "  `sexo` VARCHAR(50),\n",
    "  `especie_cat`VARCHAR(50),\n",
    "  `age` FLOAT (6),\n",
    "  \n",
    "  PRIMARY KEY (`case_number`))\n",
    "ENGINE = InnoDB;\n",
    "'''\n",
    "# El ENGINE, es el motor de almacenamiento, el encargado de almacenar y manejar la información de la tabla."
   ]
  },
  {
   "attachments": {},
   "cell_type": "markdown",
   "metadata": {},
   "source": [
    "* Tabla clima"
   ]
  },
  {
   "cell_type": "code",
   "execution_count": 63,
   "metadata": {},
   "outputs": [
    {
     "data": {
      "text/plain": [
       "Index(['timepoint', 'cloudcover', 'highcloud', 'midcloud', 'lowcloud',\n",
       "       'rh_profile', 'wind_profile', 'temp2m', 'lifted_index', 'rh2m',\n",
       "       'msl_pressure', 'prec_type', 'prec_amount', 'snow_depth',\n",
       "       'wind10m.direction', 'wind10m.speed', 'pais'],\n",
       "      dtype='object')"
      ]
     },
     "execution_count": 63,
     "metadata": {},
     "output_type": "execute_result"
    }
   ],
   "source": [
    "df_meteo.columns"
   ]
  },
  {
   "cell_type": "code",
   "execution_count": 49,
   "metadata": {},
   "outputs": [
    {
     "data": {
      "text/plain": [
       "timepoint             int64\n",
       "cloudcover            int64\n",
       "highcloud             int64\n",
       "midcloud              int64\n",
       "lowcloud              int64\n",
       "rh_profile           object\n",
       "wind_profile         object\n",
       "temp2m                int64\n",
       "lifted_index          int64\n",
       "rh2m                  int64\n",
       "msl_pressure          int64\n",
       "prec_type            object\n",
       "prec_amount           int64\n",
       "snow_depth            int64\n",
       "wind10m.direction     int64\n",
       "wind10m.speed         int64\n",
       "pais                 object\n",
       "dtype: object"
      ]
     },
     "execution_count": 49,
     "metadata": {},
     "output_type": "execute_result"
    }
   ],
   "source": [
    "df_meteo.dtypes"
   ]
  },
  {
   "cell_type": "code",
   "execution_count": 76,
   "metadata": {},
   "outputs": [],
   "source": [
    "tabla_clima = '''\n",
    "CREATE TABLE IF NOT EXISTS `tiburones`.`clima`(\n",
    "  `timepoint` INT NOT NULL, \n",
    "  `cloudcover` INT NOT NULL, \n",
    "  `highcloud` INT NOT NULL,\n",
    "  `midcloud` INT NOT NULL, \n",
    "  `lowcloud` INT NOT NULL, \n",
    "  `rh_profile` VARCHAR (1000),\n",
    "  `wind_profile` VARCHAR (1000),\n",
    "  `temp2m` INT NOT NULL, \n",
    "  `lifted_index` INT NOT NULL, \n",
    "  `rh2m` INT NOT NULL,\n",
    "  `msl_pressure` INT NOT NULL, \n",
    "  `prec_type` VARCHAR (1000),\n",
    "  `prec_amount` INT (50) NOT NULL, \n",
    "  `snow_depth` INT (50) NOT NULL, \n",
    "  `wind10m.direction` INT NOT NULL,\n",
    "  `wind10m.speed` INT NOT NULL,\n",
    "  `pais` VARCHAR (50) NOT NULL,\n",
    "  `case_number` VARCHAR (50) NOT NULL,\n",
    "    \n",
    "  PRIMARY KEY ( `pais`),\n",
    "  INDEX `fk_clima_ataques_idx` (`pais` ASC),\n",
    "  CONSTRAINT `fk_clima_ataques`\n",
    "    FOREIGN KEY (`case_number`)\n",
    "    REFERENCES `tiburones`.`ataques` (`case_number`))\n",
    "ENGINE = InnoDB;\n",
    "'''"
   ]
  },
  {
   "attachments": {},
   "cell_type": "markdown",
   "metadata": {},
   "source": [
    "Ahora tenemos que llamar a la función que nos permitirá crear las tablas de la BBDD:"
   ]
  },
  {
   "cell_type": "code",
   "execution_count": 75,
   "metadata": {},
   "outputs": [],
   "source": [
    "crear_insertar_tabla(\"tiburones\", \"AlumnaAdalab\", tabla_ataques)"
   ]
  },
  {
   "cell_type": "code",
   "execution_count": 77,
   "metadata": {},
   "outputs": [],
   "source": [
    "crear_insertar_tabla(\"tiburones\", \"AlumnaAdalab\", tabla_clima)"
   ]
  }
 ],
 "metadata": {
  "kernelspec": {
   "display_name": "base",
   "language": "python",
   "name": "python3"
  },
  "language_info": {
   "codemirror_mode": {
    "name": "ipython",
    "version": 3
   },
   "file_extension": ".py",
   "mimetype": "text/x-python",
   "name": "python",
   "nbconvert_exporter": "python",
   "pygments_lexer": "ipython3",
   "version": "3.9.13 (main, Aug 25 2022, 23:26:10) \n[GCC 11.2.0]"
  },
  "orig_nbformat": 4,
  "vscode": {
   "interpreter": {
    "hash": "f2104d434ce3092b7c07d5af98c90652611c7ad655b2a72b59e9e675e449bc7b"
   }
  }
 },
 "nbformat": 4,
 "nbformat_minor": 2
}
