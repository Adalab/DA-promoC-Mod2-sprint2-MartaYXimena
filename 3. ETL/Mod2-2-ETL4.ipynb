{
 "cells": [
  {
   "attachments": {},
   "cell_type": "markdown",
   "metadata": {},
   "source": [
    "# Pair Programming ETL Carga I"
   ]
  },
  {
   "attachments": {},
   "cell_type": "markdown",
   "metadata": {},
   "source": [
    "Es el momento de meter todos nuestros datos en SQL 💪🏽!!! En este ejercicio nos crearemos dos tablas en una BBDD creada por nosotras. Una de las tablas contendrá la información que obtuvimos de los ejercicios de pair programming de Limpieza, es decir, el data set de ataques de tiburones limpito. La segunda tabla tendrá la información obtenida en el ejercicio de pair de ETL 1."
   ]
  },
  {
   "cell_type": "code",
   "execution_count": 1,
   "metadata": {},
   "outputs": [],
   "source": [
    "import pandas as pd\n",
    "import mysql.connector"
   ]
  },
  {
   "attachments": {},
   "cell_type": "markdown",
   "metadata": {},
   "source": [
    "## 1. Cread la BBDD con el nombre de tiburones."
   ]
  },
  {
   "cell_type": "code",
   "execution_count": 2,
   "metadata": {},
   "outputs": [],
   "source": [
    "def crear_bbdd(nombre_database):\n",
    "    mydb = mysql.connector.connect(\n",
    "        host = \"localhost\", \n",
    "        user = \"root\",\n",
    "        password = \"AlumnaAdalab\"\n",
    "    )\n",
    "\n",
    "    print(\"Conexión realizada con éxito\") #Obtendremos este print para saber que la conexión con el servidor ha sido \n",
    "                                           #creada con éxito\n",
    "\n",
    "    mycursor = mydb.cursor()\n",
    "\n",
    "    try:\n",
    "        mycursor.execute(f\"CREATE DATABASE IF NOT EXISTS {nombre_database};\")\n",
    "        print(mycursor)\n",
    "    except mysql.connector.Error as err:\n",
    "        print(err)\n",
    "        print(\"Error Code:\", err.errno)\n",
    "        print(\"SQLSTATE\", err.sqlstate)\n",
    "        print(\"Message\", err.msg)\n",
    "            \n"
   ]
  },
  {
   "cell_type": "code",
   "execution_count": 3,
   "metadata": {},
   "outputs": [
    {
     "name": "stdout",
     "output_type": "stream",
     "text": [
      "Conexión realizada con éxito\n",
      "CMySQLCursor: CREATE DATABASE IF NOT EXISTS tiburones;\n"
     ]
    }
   ],
   "source": [
    "#Ahora vamos a llamar a la función anterior para que cree la base de datos:\n",
    "mydb = crear_bbdd(\"tiburones\")"
   ]
  },
  {
   "attachments": {},
   "cell_type": "markdown",
   "metadata": {},
   "source": [
    "### 2.Cread las tablas de la BBDD:"
   ]
  },
  {
   "attachments": {},
   "cell_type": "markdown",
   "metadata": {},
   "source": [
    "* Tabla ataques"
   ]
  },
  {
   "cell_type": "code",
   "execution_count": 4,
   "metadata": {},
   "outputs": [],
   "source": [
    "def crear_insertar_tabla(nombre_bbdd, contraseña, query):\n",
    "    \n",
    "    # conectamos con el servidor:\n",
    "    cnx = mysql.connector.connect(user='root', password=f\"{contraseña}\",\n",
    "                                     host='127.0.0.1', database=f\"{nombre_bbdd}\")\n",
    "    \n",
    "    mycursor = cnx.cursor() #para iniciar el cursor que nos permitirá comunicarnos con la base de datos, en él se\n",
    "                            # almacenarán los resultados.\n",
    "    \n",
    "    # pasamos la consulta que queremos realizar (query) al método execute() del cursor \n",
    "    try: \n",
    "        mycursor.execute(query)\n",
    "        cnx.commit() \n",
    "    # en caso de que no se pueda ejecutar la query nos devolverá un error \n",
    "    except mysql.connector.Error as err:\n",
    "        print(err)\n",
    "        print(\"Error Code:\", err.errno)\n",
    "        print(\"SQLSTATE\", err.sqlstate)\n",
    "        print(\"Message\", err.msg)\n"
   ]
  },
  {
   "attachments": {},
   "cell_type": "markdown",
   "metadata": {},
   "source": [
    "Ahora vamos a definir las queries que van a conformar las tablas:"
   ]
  },
  {
   "cell_type": "code",
   "execution_count": 5,
   "metadata": {},
   "outputs": [
    {
     "data": {
      "text/html": [
       "<div>\n",
       "<style scoped>\n",
       "    .dataframe tbody tr th:only-of-type {\n",
       "        vertical-align: middle;\n",
       "    }\n",
       "\n",
       "    .dataframe tbody tr th {\n",
       "        vertical-align: top;\n",
       "    }\n",
       "\n",
       "    .dataframe thead th {\n",
       "        text-align: right;\n",
       "    }\n",
       "</style>\n",
       "<table border=\"1\" class=\"dataframe\">\n",
       "  <thead>\n",
       "    <tr style=\"text-align: right;\">\n",
       "      <th></th>\n",
       "      <th>case_number</th>\n",
       "      <th>year</th>\n",
       "      <th>type</th>\n",
       "      <th>country</th>\n",
       "      <th>area</th>\n",
       "      <th>location</th>\n",
       "      <th>activity</th>\n",
       "      <th>name</th>\n",
       "      <th>age</th>\n",
       "      <th>time</th>\n",
       "      <th>...</th>\n",
       "      <th>midcloud</th>\n",
       "      <th>lowcloud</th>\n",
       "      <th>temp2m</th>\n",
       "      <th>lifted_index</th>\n",
       "      <th>rh2m</th>\n",
       "      <th>msl_pressure</th>\n",
       "      <th>prec_amount</th>\n",
       "      <th>snow_depth</th>\n",
       "      <th>wind10m.direction</th>\n",
       "      <th>wind10m.speed</th>\n",
       "    </tr>\n",
       "  </thead>\n",
       "  <tbody>\n",
       "    <tr>\n",
       "      <th>0</th>\n",
       "      <td>2018.06.25</td>\n",
       "      <td>2018.0</td>\n",
       "      <td>Boating</td>\n",
       "      <td>USA</td>\n",
       "      <td>California</td>\n",
       "      <td>Oceanside, San Diego County</td>\n",
       "      <td>Paddling</td>\n",
       "      <td>Julie Wolfe</td>\n",
       "      <td>57</td>\n",
       "      <td>18h00</td>\n",
       "      <td>...</td>\n",
       "      <td>-9999.0</td>\n",
       "      <td>-9999.0</td>\n",
       "      <td>11.421875</td>\n",
       "      <td>9.6875</td>\n",
       "      <td>4.25</td>\n",
       "      <td>1013.703125</td>\n",
       "      <td>1.234375</td>\n",
       "      <td>0.0</td>\n",
       "      <td>192.109375</td>\n",
       "      <td>2.921875</td>\n",
       "    </tr>\n",
       "  </tbody>\n",
       "</table>\n",
       "<p>1 rows × 62 columns</p>\n",
       "</div>"
      ],
      "text/plain": [
       "  case_number    year     type country        area  \\\n",
       "0  2018.06.25  2018.0  Boating     USA  California   \n",
       "\n",
       "                      location  activity         name age   time  ...  \\\n",
       "0  Oceanside, San Diego County  Paddling  Julie Wolfe  57  18h00  ...   \n",
       "\n",
       "  midcloud lowcloud     temp2m lifted_index  rh2m msl_pressure  prec_amount  \\\n",
       "0  -9999.0  -9999.0  11.421875       9.6875  4.25  1013.703125     1.234375   \n",
       "\n",
       "   snow_depth  wind10m.direction  wind10m.speed  \n",
       "0         0.0         192.109375       2.921875  \n",
       "\n",
       "[1 rows x 62 columns]"
      ]
     },
     "execution_count": 5,
     "metadata": {},
     "output_type": "execute_result"
    }
   ],
   "source": [
    "# Revisamos las columnas que componen a nuestro df\n",
    "df = pd.read_csv(\"datos/datos_union_clima_ataques.csv\", index_col=0)\n",
    "df.head(1)"
   ]
  },
  {
   "cell_type": "code",
   "execution_count": 6,
   "metadata": {},
   "outputs": [
    {
     "data": {
      "text/plain": [
       "case_number      object\n",
       "year            float64\n",
       "type             object\n",
       "country          object\n",
       "area             object\n",
       "location         object\n",
       "activity         object\n",
       "name             object\n",
       "age              object\n",
       "time             object\n",
       "species_         object\n",
       "injury           object\n",
       "fecha_limpia     object\n",
       "fatal            object\n",
       "sex              object\n",
       "dtype: object"
      ]
     },
     "execution_count": 6,
     "metadata": {},
     "output_type": "execute_result"
    }
   ],
   "source": [
    "# Identificamos los tipos de datos de las columnas\n",
    "df.dtypes[0:15] "
   ]
  },
  {
   "cell_type": "code",
   "execution_count": 12,
   "metadata": {},
   "outputs": [],
   "source": [
    "tabla_ataques = '''\n",
    "CREATE TABLE IF NOT EXISTS 'ataques' (\n",
    "\"id_ataque\" INT NOT NULL AUTO_INCREMENT,\n",
    "case_number VARCHAR(50) NOT NULL, \n",
    "'year' FLOAT NOT NULL , \n",
    "'type' VARCHAR(50) NOT NULL, \n",
    "'country' VARCHAR(50) NOT NULL, \n",
    "'area' VARCHAR(50) NOT NULL, \n",
    "'location' VARCHAR(50) NOT NULL,\n",
    "'activity' VARCHAR(50) NOT NULL, \n",
    "'name' VARCHAR(50) NOT NULL, \n",
    "'age' VARCHAR(50) NOT NULL, \n",
    "'time' VARCHAR(50) NOT NULL, \n",
    "'species_' VARCHAR(50) NOT NULL, \n",
    "'injury' VARCHAR(50) NOT NULL, \n",
    "'fecha_limpia' VARCHAR(50) NOT NULL,\n",
    "'fatal' VARCHAR(50) NOT NULL, \n",
    "'sex' VARCHAR(50) NOT NULL,\n",
    "  \n",
    "  PRIMARY KEY (`id_ataque`))\n",
    "ENGINE = InnoDB;\n",
    "'''\n",
    "# El ENGINE, es el motor de almacenamiento, el encargado de almacenar y manejar la información de la tabla."
   ]
  },
  {
   "attachments": {},
   "cell_type": "markdown",
   "metadata": {},
   "source": [
    "* Tabla clima"
   ]
  },
  {
   "cell_type": "code",
   "execution_count": 8,
   "metadata": {},
   "outputs": [],
   "source": [
    "tabla_clima = '''\n",
    "CREATE TABLE IF NOT EXISTS 'tiburones'.'clima'(\n",
    "'id_clima' INT NOT NULL AUTO_INCREMENT,\n",
    "'index' FLOAT NOT NULL, \n",
    "'timepoint' FLOAT NOT NULL, \n",
    "'cloudcover' FLOAT NOT NULL, \n",
    "'highcloud' FLOAT NOT NULL,\n",
    "'midcloud' FLOAT NOT NULL, \n",
    "'lowcloud' FLOAT NOT NULL, \n",
    "'temp2m' FLOAT NOT NULL, \n",
    "'lifted_index' FLOAT NOT NULL, \n",
    "'rh2m' FLOAT NOT NULL,\n",
    "'msl_pressure' FLOAT NOT NULL, \n",
    "'prec_amount' FLOAT NOT NULL, \n",
    "'snow_depth' FLOAT NOT NULL, \n",
    "'wind10m.direction' FLOAT NOT NULL,\n",
    "'wind10m.speed' FLOAT NOT NULL,\n",
    "  \n",
    "PRIMARY KEY ( `id_clima`),\n",
    "\n",
    "CONSTRAINT `fk_clima_ataques`\n",
    "  FOREIGN KEY (`id_ataque`)\n",
    "  REFERENCES `ataques` (`id_ataque`))\n",
    "ENGINE = InnoDB;\n",
    "'''"
   ]
  },
  {
   "cell_type": "code",
   "execution_count": 22,
   "metadata": {},
   "outputs": [
    {
     "data": {
      "text/plain": [
       "wind_550mb           float64\n",
       "wind_500mb           float64\n",
       "wind_450mb           float64\n",
       "wind_400mb           float64\n",
       "wind_350mb           float64\n",
       "wind_300mb           float64\n",
       "wind_250mb           float64\n",
       "wind_200mb           float64\n",
       "index                float64\n",
       "timepoint            float64\n",
       "cloudcover           float64\n",
       "highcloud            float64\n",
       "midcloud             float64\n",
       "lowcloud             float64\n",
       "temp2m               float64\n",
       "lifted_index         float64\n",
       "rh2m                 float64\n",
       "msl_pressure         float64\n",
       "prec_amount          float64\n",
       "snow_depth           float64\n",
       "wind10m.direction    float64\n",
       "wind10m.speed        float64\n",
       "dtype: object"
      ]
     },
     "execution_count": 22,
     "metadata": {},
     "output_type": "execute_result"
    }
   ],
   "source": [
    "df.dtypes[40::]"
   ]
  },
  {
   "attachments": {},
   "cell_type": "markdown",
   "metadata": {},
   "source": [
    "Ahora tenemos que llamar a la función que nos permitirá crear las tablas de la BBDD:"
   ]
  },
  {
   "cell_type": "code",
   "execution_count": 13,
   "metadata": {},
   "outputs": [
    {
     "name": "stdout",
     "output_type": "stream",
     "text": [
      "1064 (42000): You have an error in your SQL syntax; check the manual that corresponds to your MySQL server version for the right syntax to use near ''ataques' (\n",
      "\"id_ataque\" INT NOT NULL AUTO_INCREMENT,\n",
      "case_number VARCHAR(50) NOT' at line 1\n",
      "Error Code: 1064\n",
      "SQLSTATE 42000\n",
      "Message You have an error in your SQL syntax; check the manual that corresponds to your MySQL server version for the right syntax to use near ''ataques' (\n",
      "\"id_ataque\" INT NOT NULL AUTO_INCREMENT,\n",
      "case_number VARCHAR(50) NOT' at line 1\n"
     ]
    }
   ],
   "source": [
    "crear_insertar_tabla(\"tiburones\", \"AlumnaAdalab\", tabla_ataques)"
   ]
  },
  {
   "cell_type": "code",
   "execution_count": 14,
   "metadata": {},
   "outputs": [
    {
     "name": "stdout",
     "output_type": "stream",
     "text": [
      "1064 (42000): You have an error in your SQL syntax; check the manual that corresponds to your MySQL server version for the right syntax to use near ''tiburones'.'clima'(\n",
      "'id_clima' INT NOT NULL AUTO_INCREMENT,\n",
      "'index' FLOAT NOT N' at line 1\n",
      "Error Code: 1064\n",
      "SQLSTATE 42000\n",
      "Message You have an error in your SQL syntax; check the manual that corresponds to your MySQL server version for the right syntax to use near ''tiburones'.'clima'(\n",
      "'id_clima' INT NOT NULL AUTO_INCREMENT,\n",
      "'index' FLOAT NOT N' at line 1\n"
     ]
    }
   ],
   "source": [
    "crear_insertar_tabla(\"tiburones\", \"AlumnaAdalab\", tabla_clima)"
   ]
  }
 ],
 "metadata": {
  "kernelspec": {
   "display_name": "base",
   "language": "python",
   "name": "python3"
  },
  "language_info": {
   "codemirror_mode": {
    "name": "ipython",
    "version": 3
   },
   "file_extension": ".py",
   "mimetype": "text/x-python",
   "name": "python",
   "nbconvert_exporter": "python",
   "pygments_lexer": "ipython3",
   "version": "3.9.13"
  },
  "orig_nbformat": 4,
  "vscode": {
   "interpreter": {
    "hash": "f2104d434ce3092b7c07d5af98c90652611c7ad655b2a72b59e9e675e449bc7b"
   }
  }
 },
 "nbformat": 4,
 "nbformat_minor": 2
}
